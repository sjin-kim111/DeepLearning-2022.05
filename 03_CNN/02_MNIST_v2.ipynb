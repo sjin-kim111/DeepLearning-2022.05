{
  "nbformat": 4,
  "nbformat_minor": 0,
  "metadata": {
    "colab": {
      "name": "02_MNIST_v2.ipynb",
      "provenance": [],
      "collapsed_sections": []
    },
    "kernelspec": {
      "name": "python3",
      "display_name": "Python 3"
    },
    "language_info": {
      "name": "python"
    },
    "accelerator": "GPU"
  },
  "cells": [
    {
      "cell_type": "markdown",
      "source": [
        "# MNIST 손글씨 - CNN v2\n",
        "- 2 x Conv2D layers\n",
        "- 1 MaxPooling2D layer\n",
        "- 1 FCN layer\n",
        "- 1 Output layer"
      ],
      "metadata": {
        "id": "jhbOhueudziL"
      }
    },
    {
      "cell_type": "code",
      "execution_count": null,
      "metadata": {
        "id": "RRueGaCYdwR7"
      },
      "outputs": [],
      "source": [
        "import numpy as np\n",
        "import pandas as pd\n",
        "import matplotlib.pyplot as plt\n",
        "import tensorflow as tf\n",
        "seed = 2022\n",
        "np.random.seed(seed)\n",
        "tf.random.set_seed(seed)"
      ]
    },
    {
      "cell_type": "markdown",
      "source": [
        "- 데이터 전처리"
      ],
      "metadata": {
        "id": "CU8T4LO1fLSs"
      }
    },
    {
      "cell_type": "code",
      "source": [
        "from tensorflow.keras.datasets import mnist\n",
        "(X_train, y_train), (X_test, y_test) = mnist.load_data()\n",
        "X_train.shape, y_train.shape, X_test.shape, y_test.shape"
      ],
      "metadata": {
        "colab": {
          "base_uri": "https://localhost:8080/"
        },
        "id": "ElZxxiUYeFXQ",
        "outputId": "81706486-7307-4da1-fc09-9977e184c98d"
      },
      "execution_count": null,
      "outputs": [
        {
          "output_type": "stream",
          "name": "stdout",
          "text": [
            "Downloading data from https://storage.googleapis.com/tensorflow/tf-keras-datasets/mnist.npz\n",
            "11493376/11490434 [==============================] - 0s 0us/step\n",
            "11501568/11490434 [==============================] - 0s 0us/step\n"
          ]
        },
        {
          "output_type": "execute_result",
          "data": {
            "text/plain": [
              "((60000, 28, 28), (60000,), (10000, 28, 28), (10000,))"
            ]
          },
          "metadata": {},
          "execution_count": 2
        }
      ]
    },
    {
      "cell_type": "code",
      "source": [
        "# X_train, X_test 정규화(0~1), 이미지 차원 변경: 2차원 --> 3차원\n",
        "X_train = X_train.reshape(-1, 28, 28, 1) / 255.\n",
        "X_test = X_test.reshape(-1, 28, 28, 1) / 255.\n",
        "X_train.shape, X_test.shape"
      ],
      "metadata": {
        "colab": {
          "base_uri": "https://localhost:8080/"
        },
        "id": "1lWIcKayeNti",
        "outputId": "0d6df311-282d-40cd-a6ca-459102845445"
      },
      "execution_count": null,
      "outputs": [
        {
          "output_type": "execute_result",
          "data": {
            "text/plain": [
              "((60000, 28, 28, 1), (10000, 28, 28, 1))"
            ]
          },
          "metadata": {},
          "execution_count": 3
        }
      ]
    },
    {
      "cell_type": "code",
      "source": [
        "# One hot encoding\n",
        "from tensorflow.keras.utils import to_categorical\n",
        "Y_train = to_categorical(y_train)\n",
        "Y_test = to_categorical(y_test)\n",
        "Y_train.shape, Y_test.shape"
      ],
      "metadata": {
        "colab": {
          "base_uri": "https://localhost:8080/"
        },
        "id": "6V3ig-AJeY1i",
        "outputId": "638138f5-548a-49d4-9661-15c6a6a97378"
      },
      "execution_count": null,
      "outputs": [
        {
          "output_type": "execute_result",
          "data": {
            "text/plain": [
              "((60000, 10), (10000, 10))"
            ]
          },
          "metadata": {},
          "execution_count": 4
        }
      ]
    },
    {
      "cell_type": "markdown",
      "source": [
        "- 모델 정의/설정/학습/평가"
      ],
      "metadata": {
        "id": "_X961xIWfGDE"
      }
    },
    {
      "cell_type": "code",
      "source": [
        "from tensorflow.keras.models import Sequential, load_model\n",
        "from tensorflow.keras.layers import Dense, Conv2D, Flatten, MaxPooling2D\n",
        "from tensorflow.keras.callbacks import ModelCheckpoint, EarlyStopping"
      ],
      "metadata": {
        "id": "1W2yN0KAe_8O"
      },
      "execution_count": null,
      "outputs": []
    },
    {
      "cell_type": "code",
      "source": [
        "model = Sequential([Conv2D(32, kernel_size=(3, 3), input_shape=(28, 28, 1), activation='relu'),\n",
        "                    Conv2D(64, (3, 3), activation='relu'),\n",
        "                    MaxPooling2D(),\n",
        "                    Flatten(),\n",
        "                    Dense(512, activation='relu'),\n",
        "                    Dense(10, activation='softmax')\n",
        "                    ])\n",
        "model.summary()"
      ],
      "metadata": {
        "colab": {
          "base_uri": "https://localhost:8080/"
        },
        "id": "SeBRFbrZfsmx",
        "outputId": "7520f332-3916-4089-b2a4-604bae5340ef"
      },
      "execution_count": null,
      "outputs": [
        {
          "output_type": "stream",
          "name": "stdout",
          "text": [
            "Model: \"sequential\"\n",
            "_________________________________________________________________\n",
            " Layer (type)                Output Shape              Param #   \n",
            "=================================================================\n",
            " conv2d (Conv2D)             (None, 26, 26, 32)        320       \n",
            "                                                                 \n",
            " conv2d_1 (Conv2D)           (None, 24, 24, 64)        18496     \n",
            "                                                                 \n",
            " max_pooling2d (MaxPooling2D  (None, 12, 12, 64)       0         \n",
            " )                                                               \n",
            "                                                                 \n",
            " flatten (Flatten)           (None, 9216)              0         \n",
            "                                                                 \n",
            " dense (Dense)               (None, 512)               4719104   \n",
            "                                                                 \n",
            " dense_1 (Dense)             (None, 10)                5130      \n",
            "                                                                 \n",
            "=================================================================\n",
            "Total params: 4,743,050\n",
            "Trainable params: 4,743,050\n",
            "Non-trainable params: 0\n",
            "_________________________________________________________________\n"
          ]
        }
      ]
    },
    {
      "cell_type": "code",
      "source": [
        "model.compile('adam', 'categorical_crossentropy', ['accuracy'])"
      ],
      "metadata": {
        "id": "brAy0MrOhnGA"
      },
      "execution_count": null,
      "outputs": []
    },
    {
      "cell_type": "code",
      "source": [
        "model_path = 'best_mnist_cnn_v2.h5'\n",
        "mc = ModelCheckpoint(model_path, save_best_only=True, verbose=1)\n",
        "es = EarlyStopping(patience=10)"
      ],
      "metadata": {
        "id": "NfeSDWiai6HZ"
      },
      "execution_count": null,
      "outputs": []
    },
    {
      "cell_type": "code",
      "source": [
        "hist = model.fit(X_train, Y_train, validation_split=0.2, epochs=100, batch_size=200, callbacks=[mc, es])"
      ],
      "metadata": {
        "colab": {
          "base_uri": "https://localhost:8080/"
        },
        "id": "dlPzLMjllh8R",
        "outputId": "25692e89-4311-49bc-d8c7-7be398de1b8f"
      },
      "execution_count": null,
      "outputs": [
        {
          "output_type": "stream",
          "name": "stdout",
          "text": [
            "Epoch 1/100\n",
            "240/240 [==============================] - ETA: 0s - loss: 0.1828 - accuracy: 0.9438\n",
            "Epoch 1: val_loss improved from inf to 0.06082, saving model to best_mnist_cnn_v2.h5\n",
            "240/240 [==============================] - 15s 17ms/step - loss: 0.1828 - accuracy: 0.9438 - val_loss: 0.0608 - val_accuracy: 0.9818\n",
            "Epoch 2/100\n",
            "238/240 [============================>.] - ETA: 0s - loss: 0.0439 - accuracy: 0.9864\n",
            "Epoch 2: val_loss improved from 0.06082 to 0.05619, saving model to best_mnist_cnn_v2.h5\n",
            "240/240 [==============================] - 3s 14ms/step - loss: 0.0439 - accuracy: 0.9864 - val_loss: 0.0562 - val_accuracy: 0.9850\n",
            "Epoch 3/100\n",
            "239/240 [============================>.] - ETA: 0s - loss: 0.0262 - accuracy: 0.9917\n",
            "Epoch 3: val_loss improved from 0.05619 to 0.03904, saving model to best_mnist_cnn_v2.h5\n",
            "240/240 [==============================] - 3s 14ms/step - loss: 0.0261 - accuracy: 0.9917 - val_loss: 0.0390 - val_accuracy: 0.9893\n",
            "Epoch 4/100\n",
            "237/240 [============================>.] - ETA: 0s - loss: 0.0173 - accuracy: 0.9943\n",
            "Epoch 4: val_loss did not improve from 0.03904\n",
            "240/240 [==============================] - 3s 13ms/step - loss: 0.0173 - accuracy: 0.9943 - val_loss: 0.0431 - val_accuracy: 0.9871\n",
            "Epoch 5/100\n",
            "240/240 [==============================] - ETA: 0s - loss: 0.0107 - accuracy: 0.9963\n",
            "Epoch 5: val_loss did not improve from 0.03904\n",
            "240/240 [==============================] - 3s 14ms/step - loss: 0.0107 - accuracy: 0.9963 - val_loss: 0.0521 - val_accuracy: 0.9869\n",
            "Epoch 6/100\n",
            "239/240 [============================>.] - ETA: 0s - loss: 0.0093 - accuracy: 0.9966\n",
            "Epoch 6: val_loss did not improve from 0.03904\n",
            "240/240 [==============================] - 3s 13ms/step - loss: 0.0093 - accuracy: 0.9966 - val_loss: 0.0417 - val_accuracy: 0.9896\n",
            "Epoch 7/100\n",
            "238/240 [============================>.] - ETA: 0s - loss: 0.0066 - accuracy: 0.9979\n",
            "Epoch 7: val_loss did not improve from 0.03904\n",
            "240/240 [==============================] - 3s 13ms/step - loss: 0.0066 - accuracy: 0.9979 - val_loss: 0.0502 - val_accuracy: 0.9879\n",
            "Epoch 8/100\n",
            "240/240 [==============================] - ETA: 0s - loss: 0.0063 - accuracy: 0.9979\n",
            "Epoch 8: val_loss did not improve from 0.03904\n",
            "240/240 [==============================] - 3s 13ms/step - loss: 0.0063 - accuracy: 0.9979 - val_loss: 0.0449 - val_accuracy: 0.9892\n",
            "Epoch 9/100\n",
            "240/240 [==============================] - ETA: 0s - loss: 0.0040 - accuracy: 0.9987\n",
            "Epoch 9: val_loss did not improve from 0.03904\n",
            "240/240 [==============================] - 3s 13ms/step - loss: 0.0040 - accuracy: 0.9987 - val_loss: 0.0493 - val_accuracy: 0.9906\n",
            "Epoch 10/100\n",
            "238/240 [============================>.] - ETA: 0s - loss: 0.0034 - accuracy: 0.9989\n",
            "Epoch 10: val_loss did not improve from 0.03904\n",
            "240/240 [==============================] - 4s 15ms/step - loss: 0.0034 - accuracy: 0.9989 - val_loss: 0.0546 - val_accuracy: 0.9892\n",
            "Epoch 11/100\n",
            "240/240 [==============================] - ETA: 0s - loss: 0.0034 - accuracy: 0.9989\n",
            "Epoch 11: val_loss did not improve from 0.03904\n",
            "240/240 [==============================] - 3s 14ms/step - loss: 0.0034 - accuracy: 0.9989 - val_loss: 0.0598 - val_accuracy: 0.9872\n",
            "Epoch 12/100\n",
            "237/240 [============================>.] - ETA: 0s - loss: 0.0054 - accuracy: 0.9983\n",
            "Epoch 12: val_loss did not improve from 0.03904\n",
            "240/240 [==============================] - 3s 14ms/step - loss: 0.0054 - accuracy: 0.9983 - val_loss: 0.0599 - val_accuracy: 0.9866\n",
            "Epoch 13/100\n",
            "239/240 [============================>.] - ETA: 0s - loss: 0.0059 - accuracy: 0.9981\n",
            "Epoch 13: val_loss did not improve from 0.03904\n",
            "240/240 [==============================] - 3s 13ms/step - loss: 0.0059 - accuracy: 0.9980 - val_loss: 0.0479 - val_accuracy: 0.9892\n"
          ]
        }
      ]
    },
    {
      "cell_type": "code",
      "source": [
        "best_model = load_model(model_path)\n",
        "best_model.evaluate(X_test, Y_test)"
      ],
      "metadata": {
        "colab": {
          "base_uri": "https://localhost:8080/"
        },
        "id": "0AUbUYckl7-E",
        "outputId": "05314a0f-93da-485c-f9e6-d1180fc9ed7d"
      },
      "execution_count": null,
      "outputs": [
        {
          "output_type": "stream",
          "name": "stdout",
          "text": [
            "313/313 [==============================] - 1s 3ms/step - loss: 0.0371 - accuracy: 0.9884\n"
          ]
        },
        {
          "output_type": "execute_result",
          "data": {
            "text/plain": [
              "[0.03709955886006355, 0.9883999824523926]"
            ]
          },
          "metadata": {},
          "execution_count": 11
        }
      ]
    },
    {
      "cell_type": "markdown",
      "source": [
        "- 학습과정 시각화"
      ],
      "metadata": {
        "id": "tmIKBeRUnPk6"
      }
    },
    {
      "cell_type": "code",
      "source": [
        "y_acc = hist.history['accuracy']\n",
        "y_vloss = hist.history['val_loss']\n",
        "xs = np.arange(1, len(y_acc)+1)"
      ],
      "metadata": {
        "id": "QdFeummPnQ5C"
      },
      "execution_count": null,
      "outputs": []
    },
    {
      "cell_type": "code",
      "source": [
        "plt.figure(figsize=(12, 8))\n",
        "plt.plot(xs, y_acc, label='train accuracy')\n",
        "plt.plot(xs, y_vloss, label='validation loss')\n",
        "plt.legend(), plt.grid()\n",
        "plt.xlabel('Epoch')\n",
        "plt.title('MNIST CNN model v2')\n",
        "plt.show()"
      ],
      "metadata": {
        "colab": {
          "base_uri": "https://localhost:8080/",
          "height": 513
        },
        "id": "-uQvoRXfnZ_U",
        "outputId": "4318b6de-e981-4a73-e819-090d5c294347"
      },
      "execution_count": null,
      "outputs": [
        {
          "output_type": "display_data",
          "data": {
            "text/plain": [
              "<Figure size 864x576 with 1 Axes>"
            ],
            "image/png": "[encoded data removed]"
          },
          "metadata": {
            "needs_background": "light"
          }
        }
      ]
    }
  ]
}