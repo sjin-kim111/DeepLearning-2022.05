{
  "nbformat": 4,
  "nbformat_minor": 0,
  "metadata": {
    "colab": {
      "name": "11_Fashion_MNIST_v1.ipynb",
      "provenance": [],
      "collapsed_sections": []
    },
    "kernelspec": {
      "name": "python3",
      "display_name": "Python 3"
    },
    "language_info": {
      "name": "python"
    },
    "accelerator": "GPU"
  },
  "cells": [
    {
      "cell_type": "markdown",
      "source": [
        "# Fashion MNIST - CNN v1\n",
        "- 2 x Conv2D layers\n",
        "- 1 MaxPooling2D layer\n",
        "- 1 Dropout(0.25) layer\n",
        "- 1 FCN layer\n",
        "- 1 Dropout(0.5) layer\n",
        "- 1 Output layer"
      ],
      "metadata": {
        "id": "jhbOhueudziL"
      }
    },
    {
      "cell_type": "code",
      "execution_count": null,
      "metadata": {
        "id": "RRueGaCYdwR7"
      },
      "outputs": [],
      "source": [
        "import numpy as np\n",
        "import pandas as pd\n",
        "import matplotlib.pyplot as plt\n",
        "import tensorflow as tf\n",
        "seed = 2022\n",
        "np.random.seed(seed)\n",
        "tf.random.set_seed(seed)"
      ]
    },
    {
      "cell_type": "markdown",
      "source": [
        "- 데이터 전처리"
      ],
      "metadata": {
        "id": "CU8T4LO1fLSs"
      }
    },
    {
      "cell_type": "code",
      "source": [
        "from tensorflow.keras.datasets import fashion_mnist\n",
        "(X_train, y_train), (X_test, y_test) = fashion_mnist.load_data()\n",
        "X_train.shape, y_train.shape, X_test.shape, y_test.shape"
      ],
      "metadata": {
        "colab": {
          "base_uri": "https://localhost:8080/"
        },
        "id": "ElZxxiUYeFXQ",
        "outputId": "24f8c538-6575-4772-d328-9c7f4f9e00b9"
      },
      "execution_count": null,
      "outputs": [
        {
          "output_type": "stream",
          "name": "stdout",
          "text": [
            "Downloading data from https://storage.googleapis.com/tensorflow/tf-keras-datasets/train-labels-idx1-ubyte.gz\n",
            "32768/29515 [=================================] - 0s 0us/step\n",
            "40960/29515 [=========================================] - 0s 0us/step\n",
            "Downloading data from https://storage.googleapis.com/tensorflow/tf-keras-datasets/train-images-idx3-ubyte.gz\n",
            "26427392/26421880 [==============================] - 0s 0us/step\n",
            "26435584/26421880 [==============================] - 0s 0us/step\n",
            "Downloading data from https://storage.googleapis.com/tensorflow/tf-keras-datasets/t10k-labels-idx1-ubyte.gz\n",
            "16384/5148 [===============================================================================================] - 0s 0us/step\n",
            "Downloading data from https://storage.googleapis.com/tensorflow/tf-keras-datasets/t10k-images-idx3-ubyte.gz\n",
            "4423680/4422102 [==============================] - 0s 0us/step\n",
            "4431872/4422102 [==============================] - 0s 0us/step\n"
          ]
        },
        {
          "output_type": "execute_result",
          "data": {
            "text/plain": [
              "((60000, 28, 28), (60000,), (10000, 28, 28), (10000,))"
            ]
          },
          "metadata": {},
          "execution_count": 6
        }
      ]
    },
    {
      "cell_type": "code",
      "source": [
        "plt.imshow(X_train[0], cmap='Greys');"
      ],
      "metadata": {
        "colab": {
          "base_uri": "https://localhost:8080/",
          "height": 265
        },
        "id": "VgOvrcaMzZz7",
        "outputId": "c21f68e7-42fb-44b2-f87b-c3e2e39b3223"
      },
      "execution_count": null,
      "outputs": [
        {
          "output_type": "display_data",
          "data": {
            "text/plain": [
              "<Figure size 432x288 with 1 Axes>"
            ],
            "image/png": "[encoded data removed]"
          },
          "metadata": {
            "needs_background": "light"
          }
        }
      ]
    },
    {
      "cell_type": "code",
      "source": [
        "class_names = ['T-shirt/top', 'Trouser', 'Pullover', 'Dress', 'Coat', 'Sandal', 'Shirt', 'Sneaker', 'Bag', 'Ankle boot']"
      ],
      "metadata": {
        "id": "ol_1y226znM_"
      },
      "execution_count": null,
      "outputs": []
    },
    {
      "cell_type": "code",
      "source": [
        "plt.figure(figsize=(13, 5))\n",
        "for i in range(1, 11):\n",
        "    plt.subplot(2, 5, i)\n",
        "    plt.imshow(X_train[i], cmap='Greys')\n",
        "    plt.title(class_names[y_train[i]])\n",
        "    plt.xticks([]), plt.yticks([])\n",
        "plt.show()"
      ],
      "metadata": {
        "colab": {
          "base_uri": "https://localhost:8080/",
          "height": 322
        },
        "id": "We-0TS7hzuzT",
        "outputId": "3865af31-5ba1-4018-ddca-5694a822be43"
      },
      "execution_count": null,
      "outputs": [
        {
          "output_type": "display_data",
          "data": {
            "text/plain": [
              "<Figure size 936x360 with 10 Axes>"
            ],
            "image/png": "[encoded data removed]"
          },
          "metadata": {}
        }
      ]
    },
    {
      "cell_type": "code",
      "source": [
        "# X_train, X_test 정규화(0~1), 이미지 차원 변경: 2차원 --> 3차원\n",
        "X_train = X_train.reshape(-1, 28, 28, 1) / 255.\n",
        "X_test = X_test.reshape(-1, 28, 28, 1) / 255.\n",
        "X_train.shape, X_test.shape"
      ],
      "metadata": {
        "colab": {
          "base_uri": "https://localhost:8080/"
        },
        "id": "1lWIcKayeNti",
        "outputId": "db3df4b7-6c19-4ecf-8fd3-8c284a7b5f9b"
      },
      "execution_count": null,
      "outputs": [
        {
          "output_type": "execute_result",
          "data": {
            "text/plain": [
              "((60000, 28, 28, 1), (10000, 28, 28, 1))"
            ]
          },
          "metadata": {},
          "execution_count": 10
        }
      ]
    },
    {
      "cell_type": "code",
      "source": [
        "# One hot encoding\n",
        "from tensorflow.keras.utils import to_categorical\n",
        "Y_train = to_categorical(y_train)\n",
        "Y_test = to_categorical(y_test)\n",
        "Y_train.shape, Y_test.shape"
      ],
      "metadata": {
        "colab": {
          "base_uri": "https://localhost:8080/"
        },
        "id": "6V3ig-AJeY1i",
        "outputId": "23bd100d-1b72-4715-b53a-46be94957ede"
      },
      "execution_count": null,
      "outputs": [
        {
          "output_type": "execute_result",
          "data": {
            "text/plain": [
              "((60000, 10), (10000, 10))"
            ]
          },
          "metadata": {},
          "execution_count": 11
        }
      ]
    },
    {
      "cell_type": "markdown",
      "source": [
        "- 모델 정의/설정/학습/평가"
      ],
      "metadata": {
        "id": "_X961xIWfGDE"
      }
    },
    {
      "cell_type": "code",
      "source": [
        "from tensorflow.keras.models import Sequential, load_model\n",
        "from tensorflow.keras.layers import Dense, Conv2D, Flatten, MaxPooling2D, Dropout\n",
        "from tensorflow.keras.callbacks import ModelCheckpoint, EarlyStopping"
      ],
      "metadata": {
        "id": "1W2yN0KAe_8O"
      },
      "execution_count": null,
      "outputs": []
    },
    {
      "cell_type": "code",
      "source": [
        "model = Sequential([Conv2D(32, kernel_size=(3, 3), input_shape=(28, 28, 1), activation='relu'),\n",
        "                    Conv2D(64, (3, 3), activation='relu'),\n",
        "                    MaxPooling2D(),\n",
        "                    Dropout(0.25),\n",
        "                    Flatten(),\n",
        "                    Dense(512, activation='relu'),\n",
        "                    Dropout(0.5),\n",
        "                    Dense(10, activation='softmax')\n",
        "                    ])\n",
        "model.summary()"
      ],
      "metadata": {
        "colab": {
          "base_uri": "https://localhost:8080/"
        },
        "id": "SeBRFbrZfsmx",
        "outputId": "ffadb995-203c-41bd-da6d-ad2e1b35cbfe"
      },
      "execution_count": null,
      "outputs": [
        {
          "output_type": "stream",
          "name": "stdout",
          "text": [
            "Model: \"sequential\"\n",
            "_________________________________________________________________\n",
            " Layer (type)                Output Shape              Param #   \n",
            "=================================================================\n",
            " conv2d (Conv2D)             (None, 26, 26, 32)        320       \n",
            "                                                                 \n",
            " conv2d_1 (Conv2D)           (None, 24, 24, 64)        18496     \n",
            "                                                                 \n",
            " max_pooling2d (MaxPooling2D  (None, 12, 12, 64)       0         \n",
            " )                                                               \n",
            "                                                                 \n",
            " dropout (Dropout)           (None, 12, 12, 64)        0         \n",
            "                                                                 \n",
            " flatten (Flatten)           (None, 9216)              0         \n",
            "                                                                 \n",
            " dense (Dense)               (None, 512)               4719104   \n",
            "                                                                 \n",
            " dropout_1 (Dropout)         (None, 512)               0         \n",
            "                                                                 \n",
            " dense_1 (Dense)             (None, 10)                5130      \n",
            "                                                                 \n",
            "=================================================================\n",
            "Total params: 4,743,050\n",
            "Trainable params: 4,743,050\n",
            "Non-trainable params: 0\n",
            "_________________________________________________________________\n"
          ]
        }
      ]
    },
    {
      "cell_type": "code",
      "source": [
        "model.compile('adam', 'categorical_crossentropy', ['accuracy'])"
      ],
      "metadata": {
        "id": "brAy0MrOhnGA"
      },
      "execution_count": null,
      "outputs": []
    },
    {
      "cell_type": "code",
      "source": [
        "model_path = 'best_fashoin_mnist_cnn_v1.h5'\n",
        "mc = ModelCheckpoint(model_path, save_best_only=True, verbose=1)\n",
        "es = EarlyStopping(patience=10)"
      ],
      "metadata": {
        "id": "NfeSDWiai6HZ"
      },
      "execution_count": null,
      "outputs": []
    },
    {
      "cell_type": "code",
      "source": [
        "hist = model.fit(X_train, Y_train, validation_split=0.2, epochs=100, batch_size=200, callbacks=[mc, es])"
      ],
      "metadata": {
        "colab": {
          "base_uri": "https://localhost:8080/"
        },
        "id": "dlPzLMjllh8R",
        "outputId": "6cb6d8ee-2aa8-488d-85b8-645c4f480200"
      },
      "execution_count": null,
      "outputs": [
        {
          "output_type": "stream",
          "name": "stdout",
          "text": [
            "Epoch 1/100\n",
            "236/240 [============================>.] - ETA: 0s - loss: 0.5037 - accuracy: 0.8214\n",
            "Epoch 1: val_loss improved from inf to 0.32272, saving model to best_fashoin_mnist_cnn_v1.h5\n",
            "240/240 [==============================] - 15s 15ms/step - loss: 0.5016 - accuracy: 0.8220 - val_loss: 0.3227 - val_accuracy: 0.8822\n",
            "Epoch 2/100\n",
            "237/240 [============================>.] - ETA: 0s - loss: 0.3141 - accuracy: 0.8861\n",
            "Epoch 2: val_loss improved from 0.32272 to 0.27456, saving model to best_fashoin_mnist_cnn_v1.h5\n",
            "240/240 [==============================] - 3s 14ms/step - loss: 0.3142 - accuracy: 0.8861 - val_loss: 0.2746 - val_accuracy: 0.8992\n",
            "Epoch 3/100\n",
            "237/240 [============================>.] - ETA: 0s - loss: 0.2606 - accuracy: 0.9059\n",
            "Epoch 3: val_loss improved from 0.27456 to 0.24074, saving model to best_fashoin_mnist_cnn_v1.h5\n",
            "240/240 [==============================] - 3s 14ms/step - loss: 0.2609 - accuracy: 0.9056 - val_loss: 0.2407 - val_accuracy: 0.9094\n",
            "Epoch 4/100\n",
            "240/240 [==============================] - ETA: 0s - loss: 0.2265 - accuracy: 0.9162\n",
            "Epoch 4: val_loss improved from 0.24074 to 0.23084, saving model to best_fashoin_mnist_cnn_v1.h5\n",
            "240/240 [==============================] - 3s 14ms/step - loss: 0.2265 - accuracy: 0.9162 - val_loss: 0.2308 - val_accuracy: 0.9144\n",
            "Epoch 5/100\n",
            "237/240 [============================>.] - ETA: 0s - loss: 0.2034 - accuracy: 0.9245\n",
            "Epoch 5: val_loss improved from 0.23084 to 0.22660, saving model to best_fashoin_mnist_cnn_v1.h5\n",
            "240/240 [==============================] - 3s 14ms/step - loss: 0.2034 - accuracy: 0.9243 - val_loss: 0.2266 - val_accuracy: 0.9148\n",
            "Epoch 6/100\n",
            "236/240 [============================>.] - ETA: 0s - loss: 0.1814 - accuracy: 0.9343\n",
            "Epoch 6: val_loss improved from 0.22660 to 0.21568, saving model to best_fashoin_mnist_cnn_v1.h5\n",
            "240/240 [==============================] - 3s 14ms/step - loss: 0.1813 - accuracy: 0.9341 - val_loss: 0.2157 - val_accuracy: 0.9202\n",
            "Epoch 7/100\n",
            "238/240 [============================>.] - ETA: 0s - loss: 0.1590 - accuracy: 0.9403\n",
            "Epoch 7: val_loss improved from 0.21568 to 0.20464, saving model to best_fashoin_mnist_cnn_v1.h5\n",
            "240/240 [==============================] - 3s 14ms/step - loss: 0.1590 - accuracy: 0.9403 - val_loss: 0.2046 - val_accuracy: 0.9265\n",
            "Epoch 8/100\n",
            "238/240 [============================>.] - ETA: 0s - loss: 0.1410 - accuracy: 0.9478\n",
            "Epoch 8: val_loss improved from 0.20464 to 0.20442, saving model to best_fashoin_mnist_cnn_v1.h5\n",
            "240/240 [==============================] - 3s 14ms/step - loss: 0.1416 - accuracy: 0.9476 - val_loss: 0.2044 - val_accuracy: 0.9253\n",
            "Epoch 9/100\n",
            "238/240 [============================>.] - ETA: 0s - loss: 0.1285 - accuracy: 0.9524\n",
            "Epoch 9: val_loss improved from 0.20442 to 0.20281, saving model to best_fashoin_mnist_cnn_v1.h5\n",
            "240/240 [==============================] - 3s 14ms/step - loss: 0.1286 - accuracy: 0.9524 - val_loss: 0.2028 - val_accuracy: 0.9309\n",
            "Epoch 10/100\n",
            "239/240 [============================>.] - ETA: 0s - loss: 0.1094 - accuracy: 0.9597\n",
            "Epoch 10: val_loss did not improve from 0.20281\n",
            "240/240 [==============================] - 3s 14ms/step - loss: 0.1093 - accuracy: 0.9597 - val_loss: 0.2248 - val_accuracy: 0.9241\n",
            "Epoch 11/100\n",
            "238/240 [============================>.] - ETA: 0s - loss: 0.1012 - accuracy: 0.9621\n",
            "Epoch 11: val_loss did not improve from 0.20281\n",
            "240/240 [==============================] - 3s 13ms/step - loss: 0.1014 - accuracy: 0.9620 - val_loss: 0.2086 - val_accuracy: 0.9312\n",
            "Epoch 12/100\n",
            "239/240 [============================>.] - ETA: 0s - loss: 0.0909 - accuracy: 0.9665\n",
            "Epoch 12: val_loss did not improve from 0.20281\n",
            "240/240 [==============================] - 3s 13ms/step - loss: 0.0910 - accuracy: 0.9665 - val_loss: 0.2146 - val_accuracy: 0.9295\n",
            "Epoch 13/100\n",
            "238/240 [============================>.] - ETA: 0s - loss: 0.0794 - accuracy: 0.9708\n",
            "Epoch 13: val_loss did not improve from 0.20281\n",
            "240/240 [==============================] - 3s 14ms/step - loss: 0.0795 - accuracy: 0.9707 - val_loss: 0.2203 - val_accuracy: 0.9312\n",
            "Epoch 14/100\n",
            "237/240 [============================>.] - ETA: 0s - loss: 0.0709 - accuracy: 0.9741\n",
            "Epoch 14: val_loss did not improve from 0.20281\n",
            "240/240 [==============================] - 3s 14ms/step - loss: 0.0710 - accuracy: 0.9741 - val_loss: 0.2408 - val_accuracy: 0.9307\n",
            "Epoch 15/100\n",
            "236/240 [============================>.] - ETA: 0s - loss: 0.0687 - accuracy: 0.9744\n",
            "Epoch 15: val_loss did not improve from 0.20281\n",
            "240/240 [==============================] - 3s 14ms/step - loss: 0.0690 - accuracy: 0.9743 - val_loss: 0.2409 - val_accuracy: 0.9293\n",
            "Epoch 16/100\n",
            "238/240 [============================>.] - ETA: 0s - loss: 0.0618 - accuracy: 0.9777\n",
            "Epoch 16: val_loss did not improve from 0.20281\n",
            "240/240 [==============================] - 3s 14ms/step - loss: 0.0617 - accuracy: 0.9776 - val_loss: 0.2562 - val_accuracy: 0.9298\n",
            "Epoch 17/100\n",
            "239/240 [============================>.] - ETA: 0s - loss: 0.0543 - accuracy: 0.9806\n",
            "Epoch 17: val_loss did not improve from 0.20281\n",
            "240/240 [==============================] - 3s 14ms/step - loss: 0.0543 - accuracy: 0.9806 - val_loss: 0.2508 - val_accuracy: 0.9281\n",
            "Epoch 18/100\n",
            "238/240 [============================>.] - ETA: 0s - loss: 0.0493 - accuracy: 0.9821\n",
            "Epoch 18: val_loss did not improve from 0.20281\n",
            "240/240 [==============================] - 3s 14ms/step - loss: 0.0494 - accuracy: 0.9821 - val_loss: 0.2506 - val_accuracy: 0.9312\n",
            "Epoch 19/100\n",
            "237/240 [============================>.] - ETA: 0s - loss: 0.0462 - accuracy: 0.9833\n",
            "Epoch 19: val_loss did not improve from 0.20281\n",
            "240/240 [==============================] - 3s 14ms/step - loss: 0.0464 - accuracy: 0.9833 - val_loss: 0.2629 - val_accuracy: 0.9315\n"
          ]
        }
      ]
    },
    {
      "cell_type": "code",
      "source": [
        "best_model = load_model(model_path)\n",
        "best_model.evaluate(X_test, Y_test)"
      ],
      "metadata": {
        "colab": {
          "base_uri": "https://localhost:8080/"
        },
        "id": "0AUbUYckl7-E",
        "outputId": "a92c746a-0408-4c45-9605-f18256ef9664"
      },
      "execution_count": null,
      "outputs": [
        {
          "output_type": "stream",
          "name": "stdout",
          "text": [
            "313/313 [==============================] - 1s 3ms/step - loss: 0.2166 - accuracy: 0.9242\n"
          ]
        },
        {
          "output_type": "execute_result",
          "data": {
            "text/plain": [
              "[0.2165931612253189, 0.9241999983787537]"
            ]
          },
          "metadata": {},
          "execution_count": 17
        }
      ]
    },
    {
      "cell_type": "markdown",
      "source": [
        "- 학습과정 시각화"
      ],
      "metadata": {
        "id": "tmIKBeRUnPk6"
      }
    },
    {
      "cell_type": "code",
      "source": [
        "y_acc = hist.history['accuracy']\n",
        "y_vloss = hist.history['val_loss']\n",
        "xs = np.arange(1, len(y_acc)+1)"
      ],
      "metadata": {
        "id": "QdFeummPnQ5C"
      },
      "execution_count": null,
      "outputs": []
    },
    {
      "cell_type": "code",
      "source": [
        "plt.figure(figsize=(12, 8))\n",
        "plt.plot(xs, y_acc, label='train accuracy')\n",
        "plt.plot(xs, y_vloss, label='validation loss')\n",
        "plt.legend(), plt.grid()\n",
        "plt.xlabel('Epoch')\n",
        "plt.title('Fashion MNIST CNN model v1')\n",
        "plt.show()"
      ],
      "metadata": {
        "colab": {
          "base_uri": "https://localhost:8080/",
          "height": 513
        },
        "id": "-uQvoRXfnZ_U",
        "outputId": "9bc1e43d-ba84-4ffd-b58c-2d29be4560b9"
      },
      "execution_count": null,
      "outputs": [
        {
          "output_type": "display_data",
          "data": {
            "text/plain": [
              "<Figure size 864x576 with 1 Axes>"
            ],
            "image/png": "[encoded data removed]"
          },
          "metadata": {
            "needs_background": "light"
          }
        }
      ]
    }
  ]
}