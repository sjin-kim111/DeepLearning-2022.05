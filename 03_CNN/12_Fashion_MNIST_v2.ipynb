{
  "nbformat": 4,
  "nbformat_minor": 0,
  "metadata": {
    "colab": {
      "name": "12_Fashion_MNIST_v2.ipynb",
      "provenance": [],
      "collapsed_sections": []
    },
    "kernelspec": {
      "name": "python3",
      "display_name": "Python 3"
    },
    "language_info": {
      "name": "python"
    },
    "accelerator": "GPU"
  },
  "cells": [
    {
      "cell_type": "markdown",
      "source": [
        "# Fashion MNIST - CNN v2\n",
        "- 2 x Conv2D layers with padding\n",
        "- 1 MaxPooling2D layer\n",
        "- 1 Dropout(0.25) layer\n",
        "- 1 FCN layer\n",
        "- 1 Dropout(0.5) layer\n",
        "- 1 Output layer"
      ],
      "metadata": {
        "id": "jhbOhueudziL"
      }
    },
    {
      "cell_type": "code",
      "execution_count": null,
      "metadata": {
        "id": "RRueGaCYdwR7"
      },
      "outputs": [],
      "source": [
        "import numpy as np\n",
        "import pandas as pd\n",
        "import matplotlib.pyplot as plt\n",
        "import tensorflow as tf\n",
        "seed = 2022\n",
        "np.random.seed(seed)\n",
        "tf.random.set_seed(seed)"
      ]
    },
    {
      "cell_type": "markdown",
      "source": [
        "- 데이터 전처리"
      ],
      "metadata": {
        "id": "CU8T4LO1fLSs"
      }
    },
    {
      "cell_type": "code",
      "source": [
        "from tensorflow.keras.datasets import fashion_mnist\n",
        "(X_train, y_train), (X_test, y_test) = fashion_mnist.load_data()\n",
        "X_train.shape, y_train.shape, X_test.shape, y_test.shape"
      ],
      "metadata": {
        "colab": {
          "base_uri": "https://localhost:8080/"
        },
        "id": "ElZxxiUYeFXQ",
        "outputId": "7039ddf9-fa34-4c43-fd19-eac4fbd1781e"
      },
      "execution_count": null,
      "outputs": [
        {
          "output_type": "stream",
          "name": "stdout",
          "text": [
            "Downloading data from https://storage.googleapis.com/tensorflow/tf-keras-datasets/train-labels-idx1-ubyte.gz\n",
            "32768/29515 [=================================] - 0s 0us/step\n",
            "40960/29515 [=========================================] - 0s 0us/step\n",
            "Downloading data from https://storage.googleapis.com/tensorflow/tf-keras-datasets/train-images-idx3-ubyte.gz\n",
            "26427392/26421880 [==============================] - 0s 0us/step\n",
            "26435584/26421880 [==============================] - 0s 0us/step\n",
            "Downloading data from https://storage.googleapis.com/tensorflow/tf-keras-datasets/t10k-labels-idx1-ubyte.gz\n",
            "16384/5148 [===============================================================================================] - 0s 0us/step\n",
            "Downloading data from https://storage.googleapis.com/tensorflow/tf-keras-datasets/t10k-images-idx3-ubyte.gz\n",
            "4423680/4422102 [==============================] - 0s 0us/step\n",
            "4431872/4422102 [==============================] - 0s 0us/step\n"
          ]
        },
        {
          "output_type": "execute_result",
          "data": {
            "text/plain": [
              "((60000, 28, 28), (60000,), (10000, 28, 28), (10000,))"
            ]
          },
          "metadata": {},
          "execution_count": 2
        }
      ]
    },
    {
      "cell_type": "code",
      "source": [
        "# X_train, X_test 정규화(0~1), 이미지 차원 변경: 2차원 --> 3차원\n",
        "X_train = X_train.reshape(-1, 28, 28, 1) / 255.\n",
        "X_test = X_test.reshape(-1, 28, 28, 1) / 255.\n",
        "X_train.shape, X_test.shape"
      ],
      "metadata": {
        "colab": {
          "base_uri": "https://localhost:8080/"
        },
        "id": "1lWIcKayeNti",
        "outputId": "365541bb-cc4d-446a-d048-6a72f7e490e8"
      },
      "execution_count": null,
      "outputs": [
        {
          "output_type": "execute_result",
          "data": {
            "text/plain": [
              "((60000, 28, 28, 1), (10000, 28, 28, 1))"
            ]
          },
          "metadata": {},
          "execution_count": 3
        }
      ]
    },
    {
      "cell_type": "code",
      "source": [
        "# One hot encoding\n",
        "from tensorflow.keras.utils import to_categorical\n",
        "Y_train = to_categorical(y_train)\n",
        "Y_test = to_categorical(y_test)\n",
        "Y_train.shape, Y_test.shape"
      ],
      "metadata": {
        "colab": {
          "base_uri": "https://localhost:8080/"
        },
        "id": "6V3ig-AJeY1i",
        "outputId": "624be37b-1b0e-41b7-9bfe-3ba0aa7fe0da"
      },
      "execution_count": null,
      "outputs": [
        {
          "output_type": "execute_result",
          "data": {
            "text/plain": [
              "((60000, 10), (10000, 10))"
            ]
          },
          "metadata": {},
          "execution_count": 4
        }
      ]
    },
    {
      "cell_type": "markdown",
      "source": [
        "- 모델 정의/설정/학습/평가"
      ],
      "metadata": {
        "id": "_X961xIWfGDE"
      }
    },
    {
      "cell_type": "code",
      "source": [
        "from tensorflow.keras.models import Sequential, load_model\n",
        "from tensorflow.keras.layers import Dense, Conv2D, Flatten, MaxPooling2D, Dropout\n",
        "from tensorflow.keras.callbacks import ModelCheckpoint, EarlyStopping"
      ],
      "metadata": {
        "id": "1W2yN0KAe_8O"
      },
      "execution_count": null,
      "outputs": []
    },
    {
      "cell_type": "code",
      "source": [
        "model = Sequential([Conv2D(32, kernel_size=(3, 3), padding='same', input_shape=(28, 28, 1), activation='relu'),\n",
        "                    Conv2D(64, (3, 3), padding='same', activation='relu'),\n",
        "                    MaxPooling2D(),\n",
        "                    Dropout(0.25),\n",
        "                    Flatten(),\n",
        "                    Dense(512, activation='relu'),\n",
        "                    Dropout(0.5),\n",
        "                    Dense(10, activation='softmax')\n",
        "                    ])\n",
        "model.summary()"
      ],
      "metadata": {
        "colab": {
          "base_uri": "https://localhost:8080/"
        },
        "id": "SeBRFbrZfsmx",
        "outputId": "3860a9b6-066a-486b-ed91-0b85697e837c"
      },
      "execution_count": null,
      "outputs": [
        {
          "output_type": "stream",
          "name": "stdout",
          "text": [
            "Model: \"sequential\"\n",
            "_________________________________________________________________\n",
            " Layer (type)                Output Shape              Param #   \n",
            "=================================================================\n",
            " conv2d (Conv2D)             (None, 28, 28, 32)        320       \n",
            "                                                                 \n",
            " conv2d_1 (Conv2D)           (None, 28, 28, 64)        18496     \n",
            "                                                                 \n",
            " max_pooling2d (MaxPooling2D  (None, 14, 14, 64)       0         \n",
            " )                                                               \n",
            "                                                                 \n",
            " dropout (Dropout)           (None, 14, 14, 64)        0         \n",
            "                                                                 \n",
            " flatten (Flatten)           (None, 12544)             0         \n",
            "                                                                 \n",
            " dense (Dense)               (None, 512)               6423040   \n",
            "                                                                 \n",
            " dropout_1 (Dropout)         (None, 512)               0         \n",
            "                                                                 \n",
            " dense_1 (Dense)             (None, 10)                5130      \n",
            "                                                                 \n",
            "=================================================================\n",
            "Total params: 6,446,986\n",
            "Trainable params: 6,446,986\n",
            "Non-trainable params: 0\n",
            "_________________________________________________________________\n"
          ]
        }
      ]
    },
    {
      "cell_type": "code",
      "source": [
        "model.compile('adam', 'categorical_crossentropy', ['accuracy'])"
      ],
      "metadata": {
        "id": "brAy0MrOhnGA"
      },
      "execution_count": null,
      "outputs": []
    },
    {
      "cell_type": "code",
      "source": [
        "model_path = 'best_fashoin_mnist_cnn_v2.h5'\n",
        "mc = ModelCheckpoint(model_path, save_best_only=True, verbose=1)\n",
        "es = EarlyStopping(patience=10)"
      ],
      "metadata": {
        "id": "NfeSDWiai6HZ"
      },
      "execution_count": null,
      "outputs": []
    },
    {
      "cell_type": "code",
      "source": [
        "hist = model.fit(X_train, Y_train, validation_split=0.2, epochs=100, batch_size=200, callbacks=[mc, es])"
      ],
      "metadata": {
        "colab": {
          "base_uri": "https://localhost:8080/"
        },
        "id": "dlPzLMjllh8R",
        "outputId": "7c701c8a-45fb-4bae-c230-919eb008a56e"
      },
      "execution_count": null,
      "outputs": [
        {
          "output_type": "stream",
          "name": "stdout",
          "text": [
            "Epoch 1/100\n",
            "240/240 [==============================] - ETA: 0s - loss: 0.4795 - accuracy: 0.8291\n",
            "Epoch 1: val_loss improved from inf to 0.30857, saving model to best_fashoin_mnist_cnn_v2.h5\n",
            "240/240 [==============================] - 15s 18ms/step - loss: 0.4795 - accuracy: 0.8291 - val_loss: 0.3086 - val_accuracy: 0.8864\n",
            "Epoch 2/100\n",
            "237/240 [============================>.] - ETA: 0s - loss: 0.3018 - accuracy: 0.8908\n",
            "Epoch 2: val_loss improved from 0.30857 to 0.26618, saving model to best_fashoin_mnist_cnn_v2.h5\n",
            "240/240 [==============================] - 5s 20ms/step - loss: 0.3017 - accuracy: 0.8908 - val_loss: 0.2662 - val_accuracy: 0.9032\n",
            "Epoch 3/100\n",
            "237/240 [============================>.] - ETA: 0s - loss: 0.2462 - accuracy: 0.9110\n",
            "Epoch 3: val_loss improved from 0.26618 to 0.23053, saving model to best_fashoin_mnist_cnn_v2.h5\n",
            "240/240 [==============================] - 4s 18ms/step - loss: 0.2465 - accuracy: 0.9109 - val_loss: 0.2305 - val_accuracy: 0.9142\n",
            "Epoch 4/100\n",
            "237/240 [============================>.] - ETA: 0s - loss: 0.2117 - accuracy: 0.9224\n",
            "Epoch 4: val_loss improved from 0.23053 to 0.22203, saving model to best_fashoin_mnist_cnn_v2.h5\n",
            "240/240 [==============================] - 4s 17ms/step - loss: 0.2118 - accuracy: 0.9223 - val_loss: 0.2220 - val_accuracy: 0.9191\n",
            "Epoch 5/100\n",
            "238/240 [============================>.] - ETA: 0s - loss: 0.1860 - accuracy: 0.9312\n",
            "Epoch 5: val_loss improved from 0.22203 to 0.20652, saving model to best_fashoin_mnist_cnn_v2.h5\n",
            "240/240 [==============================] - 4s 17ms/step - loss: 0.1860 - accuracy: 0.9312 - val_loss: 0.2065 - val_accuracy: 0.9243\n",
            "Epoch 6/100\n",
            "239/240 [============================>.] - ETA: 0s - loss: 0.1643 - accuracy: 0.9388\n",
            "Epoch 6: val_loss improved from 0.20652 to 0.20594, saving model to best_fashoin_mnist_cnn_v2.h5\n",
            "240/240 [==============================] - 4s 17ms/step - loss: 0.1641 - accuracy: 0.9389 - val_loss: 0.2059 - val_accuracy: 0.9257\n",
            "Epoch 7/100\n",
            "237/240 [============================>.] - ETA: 0s - loss: 0.1439 - accuracy: 0.9454\n",
            "Epoch 7: val_loss improved from 0.20594 to 0.20222, saving model to best_fashoin_mnist_cnn_v2.h5\n",
            "240/240 [==============================] - 4s 17ms/step - loss: 0.1442 - accuracy: 0.9454 - val_loss: 0.2022 - val_accuracy: 0.9278\n",
            "Epoch 8/100\n",
            "239/240 [============================>.] - ETA: 0s - loss: 0.1257 - accuracy: 0.9541\n",
            "Epoch 8: val_loss improved from 0.20222 to 0.20134, saving model to best_fashoin_mnist_cnn_v2.h5\n",
            "240/240 [==============================] - 4s 17ms/step - loss: 0.1257 - accuracy: 0.9541 - val_loss: 0.2013 - val_accuracy: 0.9288\n",
            "Epoch 9/100\n",
            "238/240 [============================>.] - ETA: 0s - loss: 0.1132 - accuracy: 0.9576\n",
            "Epoch 9: val_loss did not improve from 0.20134\n",
            "240/240 [==============================] - 4s 18ms/step - loss: 0.1133 - accuracy: 0.9576 - val_loss: 0.2032 - val_accuracy: 0.9297\n",
            "Epoch 10/100\n",
            "238/240 [============================>.] - ETA: 0s - loss: 0.0981 - accuracy: 0.9638\n",
            "Epoch 10: val_loss did not improve from 0.20134\n",
            "240/240 [==============================] - 4s 18ms/step - loss: 0.0979 - accuracy: 0.9638 - val_loss: 0.2284 - val_accuracy: 0.9261\n",
            "Epoch 11/100\n",
            "239/240 [============================>.] - ETA: 0s - loss: 0.0856 - accuracy: 0.9676\n",
            "Epoch 11: val_loss did not improve from 0.20134\n",
            "240/240 [==============================] - 4s 17ms/step - loss: 0.0856 - accuracy: 0.9677 - val_loss: 0.2189 - val_accuracy: 0.9316\n",
            "Epoch 12/100\n",
            "239/240 [============================>.] - ETA: 0s - loss: 0.0773 - accuracy: 0.9715\n",
            "Epoch 12: val_loss did not improve from 0.20134\n",
            "240/240 [==============================] - 4s 16ms/step - loss: 0.0773 - accuracy: 0.9715 - val_loss: 0.2232 - val_accuracy: 0.9302\n",
            "Epoch 13/100\n",
            "239/240 [============================>.] - ETA: 0s - loss: 0.0665 - accuracy: 0.9751\n",
            "Epoch 13: val_loss did not improve from 0.20134\n",
            "240/240 [==============================] - 4s 16ms/step - loss: 0.0666 - accuracy: 0.9750 - val_loss: 0.2311 - val_accuracy: 0.9315\n",
            "Epoch 14/100\n",
            "239/240 [============================>.] - ETA: 0s - loss: 0.0647 - accuracy: 0.9759\n",
            "Epoch 14: val_loss did not improve from 0.20134\n",
            "240/240 [==============================] - 4s 16ms/step - loss: 0.0647 - accuracy: 0.9759 - val_loss: 0.2366 - val_accuracy: 0.9312\n",
            "Epoch 15/100\n",
            "238/240 [============================>.] - ETA: 0s - loss: 0.0532 - accuracy: 0.9815\n",
            "Epoch 15: val_loss did not improve from 0.20134\n",
            "240/240 [==============================] - 4s 18ms/step - loss: 0.0534 - accuracy: 0.9814 - val_loss: 0.2470 - val_accuracy: 0.9302\n",
            "Epoch 16/100\n",
            "239/240 [============================>.] - ETA: 0s - loss: 0.0512 - accuracy: 0.9812\n",
            "Epoch 16: val_loss did not improve from 0.20134\n",
            "240/240 [==============================] - 4s 18ms/step - loss: 0.0512 - accuracy: 0.9812 - val_loss: 0.2451 - val_accuracy: 0.9324\n",
            "Epoch 17/100\n",
            "237/240 [============================>.] - ETA: 0s - loss: 0.0435 - accuracy: 0.9848\n",
            "Epoch 17: val_loss did not improve from 0.20134\n",
            "240/240 [==============================] - 4s 17ms/step - loss: 0.0435 - accuracy: 0.9848 - val_loss: 0.2658 - val_accuracy: 0.9326\n",
            "Epoch 18/100\n",
            "237/240 [============================>.] - ETA: 0s - loss: 0.0408 - accuracy: 0.9851\n",
            "Epoch 18: val_loss did not improve from 0.20134\n",
            "240/240 [==============================] - 4s 18ms/step - loss: 0.0410 - accuracy: 0.9850 - val_loss: 0.2606 - val_accuracy: 0.9330\n"
          ]
        }
      ]
    },
    {
      "cell_type": "code",
      "source": [
        "best_model = load_model(model_path)\n",
        "best_model.evaluate(X_test, Y_test)"
      ],
      "metadata": {
        "colab": {
          "base_uri": "https://localhost:8080/"
        },
        "id": "0AUbUYckl7-E",
        "outputId": "3c7b2ccd-34aa-48a2-8b0b-fbbf8508469a"
      },
      "execution_count": null,
      "outputs": [
        {
          "output_type": "stream",
          "name": "stdout",
          "text": [
            "313/313 [==============================] - 1s 3ms/step - loss: 0.2194 - accuracy: 0.9267\n"
          ]
        },
        {
          "output_type": "execute_result",
          "data": {
            "text/plain": [
              "[0.21937787532806396, 0.9266999959945679]"
            ]
          },
          "metadata": {},
          "execution_count": 10
        }
      ]
    },
    {
      "cell_type": "markdown",
      "source": [
        "- 학습과정 시각화"
      ],
      "metadata": {
        "id": "tmIKBeRUnPk6"
      }
    },
    {
      "cell_type": "code",
      "source": [
        "y_acc = hist.history['accuracy']\n",
        "y_vloss = hist.history['val_loss']\n",
        "xs = np.arange(1, len(y_acc)+1)"
      ],
      "metadata": {
        "id": "QdFeummPnQ5C"
      },
      "execution_count": null,
      "outputs": []
    },
    {
      "cell_type": "code",
      "source": [
        "plt.figure(figsize=(12, 8))\n",
        "plt.plot(xs, y_acc, label='train accuracy')\n",
        "plt.plot(xs, y_vloss, label='validation loss')\n",
        "plt.legend(), plt.grid()\n",
        "plt.xlabel('Epoch')\n",
        "plt.title('Fashion MNIST CNN model v1')\n",
        "plt.show()"
      ],
      "metadata": {
        "colab": {
          "base_uri": "https://localhost:8080/",
          "height": 513
        },
        "id": "-uQvoRXfnZ_U",
        "outputId": "26bd4ec3-a78f-449e-df3e-2c61699c670c"
      },
      "execution_count": null,
      "outputs": [
        {
          "output_type": "display_data",
          "data": {
            "text/plain": [
              "<Figure size 864x576 with 1 Axes>"
            ],
            "image/png": "[encoded data removed]"
          },
          "metadata": {
            "needs_background": "light"
          }
        }
      ]
    }
  ]
}