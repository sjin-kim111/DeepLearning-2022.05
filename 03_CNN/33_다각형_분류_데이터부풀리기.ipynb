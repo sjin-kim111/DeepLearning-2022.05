{
  "nbformat": 4,
  "nbformat_minor": 0,
  "metadata": {
    "colab": {
      "name": "33_다각형 분류_데이터부풀리기.ipynb",
      "provenance": [],
      "collapsed_sections": []
    },
    "kernelspec": {
      "name": "python3",
      "display_name": "Python 3"
    },
    "language_info": {
      "name": "python"
    }
  },
  "cells": [
    {
      "cell_type": "markdown",
      "source": [
        "# 원, 사각형, 삼각형 구분하기\n",
        "- 어려운 테스트 문제를 데이터 부풀리기를 이용하여 데이터를 많이 생성\n",
        "- 기존 CNN 모델 사용"
      ],
      "metadata": {
        "id": "50K0jbUXi8jN"
      }
    },
    {
      "cell_type": "code",
      "execution_count": 1,
      "metadata": {
        "colab": {
          "resources": {
            "http://localhost:8080/nbextensions/google.colab/files.js": {
              "data": "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",
              "ok": true,
              "headers": [
                [
                  "content-type",
                  "application/javascript"
                ]
              ],
              "status": 200,
              "status_text": ""
            }
          },
          "base_uri": "https://localhost:8080/",
          "height": 74
        },
        "id": "n84VwECxi1DO",
        "outputId": "313e08eb-fec7-4dff-c039-c7556c2f3615"
      },
      "outputs": [
        {
          "output_type": "display_data",
          "data": {
            "text/plain": [
              "<IPython.core.display.HTML object>"
            ],
            "text/html": [
              "\n",
              "     <input type=\"file\" id=\"files-2e2a71be-db1e-41f0-ba81-dedd0ea03dfd\" name=\"files[]\" multiple disabled\n",
              "        style=\"border:none\" />\n",
              "     <output id=\"result-2e2a71be-db1e-41f0-ba81-dedd0ea03dfd\">\n",
              "      Upload widget is only available when the cell has been executed in the\n",
              "      current browser session. Please rerun this cell to enable.\n",
              "      </output>\n",
              "      <script src=\"/nbextensions/google.colab/files.js\"></script> "
            ]
          },
          "metadata": {}
        },
        {
          "output_type": "stream",
          "name": "stdout",
          "text": [
            "Saving hard_handwriting_shape.zip to hard_handwriting_shape.zip\n"
          ]
        }
      ],
      "source": [
        "from google.colab import files\n",
        "up = files.upload()"
      ]
    },
    {
      "cell_type": "code",
      "source": [
        "!unzip hard_handwriting_shape.zip -d hard_handwriting > /dev/null"
      ],
      "metadata": {
        "id": "8bz4dtfcjVhU"
      },
      "execution_count": 2,
      "outputs": []
    },
    {
      "cell_type": "code",
      "source": [
        "from PIL import Image\n",
        "from glob import glob\n",
        "import matplotlib.pyplot as plt"
      ],
      "metadata": {
        "id": "yhJanMLRjgDU"
      },
      "execution_count": 3,
      "outputs": []
    },
    {
      "cell_type": "markdown",
      "source": [
        "- 데이터셋 생성하기"
      ],
      "metadata": {
        "id": "HbH3czCgjp-_"
      }
    },
    {
      "cell_type": "code",
      "source": [
        "from tensorflow.keras.preprocessing.image import ImageDataGenerator\n",
        "\n",
        "train_datagen = ImageDataGenerator(\n",
        "    rescale=1/255.,\n",
        "    rotation_range=0,                   # randomly rotate images in the range (deg 0 to 180)\n",
        "    width_shift_range=0.1,              # randomly shift images horizontally\n",
        "    height_shift_range=0.1,             # randomly shift images vertically\n",
        "    shear_range=0.,                     # set range for random shear\n",
        "    zoom_range=[0.8, 1.5],              # 0.8 ~ 1.5배로 임의로 확대/축소\n",
        "    horizontal_flip=True,               # randomly flip images\n",
        "    vertical_flip=False,                # randomly flip images\n",
        "    fill_mode='nearest',                # set mode for filling points outside the input boundaries\n",
        ")"
      ],
      "metadata": {
        "id": "KbPYBn6YjpQ8"
      },
      "execution_count": 4,
      "outputs": []
    },
    {
      "cell_type": "code",
      "source": [
        "from tensorflow.keras.preprocessing.image import img_to_array, load_img\n",
        "\n",
        "img = load_img('hard_handwriting/train/triangle/triangle001.png')\n",
        "x = img_to_array(img)\n",
        "x.shape"
      ],
      "metadata": {
        "colab": {
          "base_uri": "https://localhost:8080/"
        },
        "id": "siELvdCdkkWK",
        "outputId": "f28c4b76-fc36-4c20-8fed-00944f264a43"
      },
      "execution_count": 5,
      "outputs": [
        {
          "output_type": "execute_result",
          "data": {
            "text/plain": [
              "(24, 24, 3)"
            ]
          },
          "metadata": {},
          "execution_count": 5
        }
      ]
    },
    {
      "cell_type": "code",
      "source": [
        "# x.reshape(1, 24, 24, 3)\n",
        "x = x.reshape((1, ) + x.shape)\n",
        "x.shape"
      ],
      "metadata": {
        "colab": {
          "base_uri": "https://localhost:8080/"
        },
        "id": "liRziIxJlt3W",
        "outputId": "43d92ce6-590d-4ea4-84ea-89ef9ffc0358"
      },
      "execution_count": 6,
      "outputs": [
        {
          "output_type": "execute_result",
          "data": {
            "text/plain": [
              "(1, 24, 24, 3)"
            ]
          },
          "metadata": {},
          "execution_count": 6
        }
      ]
    },
    {
      "cell_type": "markdown",
      "source": [
        "- 데이터 부풀리기를 통하여 만들어지는 새로운 도형 이미지"
      ],
      "metadata": {
        "id": "U9VSuHNEmO0B"
      }
    },
    {
      "cell_type": "code",
      "source": [
        "import os\n",
        "if not os.path.exists('preview'):\n",
        "    os.mkdir('preview')"
      ],
      "metadata": {
        "id": "5YfHMCqCmGjW"
      },
      "execution_count": 7,
      "outputs": []
    },
    {
      "cell_type": "code",
      "source": [
        "cnt = 0\n",
        "for _ in train_datagen.flow(x, batch_size=1, save_to_dir='preview', save_prefix='pre'):\n",
        "    cnt += 1\n",
        "    if cnt >= 30:\n",
        "        break"
      ],
      "metadata": {
        "id": "YYqAE4j5nMvK"
      },
      "execution_count": 9,
      "outputs": []
    },
    {
      "cell_type": "code",
      "source": [
        "plt.figure(figsize=(10, 3))\n",
        "for i, fname in enumerate(glob('preview/*.png')):\n",
        "    img = Image.open(fname)\n",
        "    plt.subplot(3, 10, i+1)\n",
        "    plt.imshow(img), plt.xticks([]), plt.yticks([])\n",
        "plt.show()"
      ],
      "metadata": {
        "id": "_ZB9GHPlvUop",
        "colab": {
          "base_uri": "https://localhost:8080/",
          "height": 197
        },
        "outputId": "e1f419ac-9312-4533-b05f-9afc3b00262d"
      },
      "execution_count": 10,
      "outputs": [
        {
          "output_type": "display_data",
          "data": {
            "text/plain": [
              "<Figure size 720x216 with 30 Axes>"
            ],
            "image/png": "[encoded data removed]"
          },
          "metadata": {}
        }
      ]
    },
    {
      "cell_type": "markdown",
      "source": [
        "- data generator"
      ],
      "metadata": {
        "id": "cacFxcPpq81R"
      }
    },
    {
      "cell_type": "code",
      "source": [
        "train_data_generator = train_datagen.flow_from_directory(\n",
        "    'hard_handwriting/train', target_size=(24, 24),\n",
        "    batch_size=3, class_mode='categorical'\n",
        ")"
      ],
      "metadata": {
        "colab": {
          "base_uri": "https://localhost:8080/"
        },
        "id": "i3t10c12q8nq",
        "outputId": "821ccca7-6d84-4e7b-e787-c30c02e843e1"
      },
      "execution_count": null,
      "outputs": [
        {
          "output_type": "stream",
          "name": "stdout",
          "text": [
            "Found 45 images belonging to 3 classes.\n"
          ]
        }
      ]
    },
    {
      "cell_type": "code",
      "source": [
        "test_datagen = ImageDataGenerator(rescale=1/255.)\n",
        "test_data_generator = test_datagen.flow_from_directory(\n",
        "    'hard_handwriting/test', target_size=(24, 24),\n",
        "    batch_size=3, class_mode='categorical'\n",
        ")"
      ],
      "metadata": {
        "colab": {
          "base_uri": "https://localhost:8080/"
        },
        "id": "2_MEnJTprTJt",
        "outputId": "d9d971fe-2691-4c5b-ced1-eccdf95ef8a6"
      },
      "execution_count": null,
      "outputs": [
        {
          "output_type": "stream",
          "name": "stdout",
          "text": [
            "Found 15 images belonging to 3 classes.\n"
          ]
        }
      ]
    },
    {
      "cell_type": "markdown",
      "source": [
        "- 모델 정의/설정/학습"
      ],
      "metadata": {
        "id": "qjVYFLfzrs7j"
      }
    },
    {
      "cell_type": "code",
      "source": [
        "import numpy as np\n",
        "import tensorflow as tf\n",
        "seed = 2022\n",
        "tf.random.set_seed(seed)\n",
        "np.random.seed(seed)"
      ],
      "metadata": {
        "id": "Fe0KXDjCrr_-"
      },
      "execution_count": null,
      "outputs": []
    },
    {
      "cell_type": "code",
      "source": [
        "from tensorflow.keras.models import Sequential\n",
        "from tensorflow.keras.layers import Conv2D, MaxPooling2D, Flatten, Dense"
      ],
      "metadata": {
        "id": "Wht36-LYrznf"
      },
      "execution_count": null,
      "outputs": []
    },
    {
      "cell_type": "code",
      "source": [
        "model = Sequential([Conv2D(32, (3, 3), input_shape=(24, 24, 3), activation='relu'),\n",
        "                    Conv2D(64, (3, 3), activation='relu'),\n",
        "                    MaxPooling2D(),\n",
        "                    Flatten(),\n",
        "                    Dense(128, activation='relu'),\n",
        "                    Dense(3, activation='softmax')])\n",
        "model.summary()"
      ],
      "metadata": {
        "colab": {
          "base_uri": "https://localhost:8080/"
        },
        "id": "nFZwIs0Cr0xf",
        "outputId": "39eeda24-a0cc-49dd-d6fb-783df4f9427c"
      },
      "execution_count": null,
      "outputs": [
        {
          "output_type": "stream",
          "name": "stdout",
          "text": [
            "Model: \"sequential\"\n",
            "_________________________________________________________________\n",
            " Layer (type)                Output Shape              Param #   \n",
            "=================================================================\n",
            " conv2d (Conv2D)             (None, 22, 22, 32)        896       \n",
            "                                                                 \n",
            " conv2d_1 (Conv2D)           (None, 20, 20, 64)        18496     \n",
            "                                                                 \n",
            " max_pooling2d (MaxPooling2D  (None, 10, 10, 64)       0         \n",
            " )                                                               \n",
            "                                                                 \n",
            " flatten (Flatten)           (None, 6400)              0         \n",
            "                                                                 \n",
            " dense (Dense)               (None, 128)               819328    \n",
            "                                                                 \n",
            " dense_1 (Dense)             (None, 3)                 387       \n",
            "                                                                 \n",
            "=================================================================\n",
            "Total params: 839,107\n",
            "Trainable params: 839,107\n",
            "Non-trainable params: 0\n",
            "_________________________________________________________________\n"
          ]
        }
      ]
    },
    {
      "cell_type": "code",
      "source": [
        "model.compile('adam', 'categorical_crossentropy', ['accuracy'])"
      ],
      "metadata": {
        "id": "2tXCLRvIr1zh"
      },
      "execution_count": null,
      "outputs": []
    },
    {
      "cell_type": "code",
      "source": [
        "model.fit(train_data_generator, steps_per_epoch=15, epochs=300, validation_data=test_data_generator, validation_steps=5)    # epochs=300 할 때마다 이미지 바뀜?"
      ],
      "metadata": {
        "colab": {
          "base_uri": "https://localhost:8080/"
        },
        "id": "wKXbf9D_r3j-",
        "outputId": "7b0587d2-f293-4e86-e77d-46e2f2b611a6"
      },
      "execution_count": null,
      "outputs": [
        {
          "output_type": "stream",
          "name": "stdout",
          "text": [
            "Epoch 1/300\n",
            "15/15 [==============================] - 0s 28ms/step - loss: 0.0047 - accuracy: 1.0000 - val_loss: 2.4894 - val_accuracy: 0.5333\n",
            "Epoch 2/300\n",
            "15/15 [==============================] - 0s 25ms/step - loss: 0.0018 - accuracy: 1.0000 - val_loss: 2.3106 - val_accuracy: 0.6667\n",
            "Epoch 3/300\n",
            "15/15 [==============================] - 0s 26ms/step - loss: 0.0953 - accuracy: 0.9556 - val_loss: 2.5671 - val_accuracy: 0.6000\n",
            "Epoch 4/300\n",
            "15/15 [==============================] - 0s 27ms/step - loss: 0.0736 - accuracy: 0.9556 - val_loss: 3.0726 - val_accuracy: 0.5333\n",
            "Epoch 5/300\n",
            "15/15 [==============================] - 0s 26ms/step - loss: 0.0075 - accuracy: 1.0000 - val_loss: 2.9935 - val_accuracy: 0.5333\n",
            "Epoch 6/300\n",
            "15/15 [==============================] - 0s 25ms/step - loss: 0.0176 - accuracy: 1.0000 - val_loss: 2.2621 - val_accuracy: 0.6667\n",
            "Epoch 7/300\n",
            "15/15 [==============================] - 0s 24ms/step - loss: 0.0028 - accuracy: 1.0000 - val_loss: 2.2768 - val_accuracy: 0.6667\n",
            "Epoch 8/300\n",
            "15/15 [==============================] - 0s 27ms/step - loss: 3.8150e-04 - accuracy: 1.0000 - val_loss: 2.3204 - val_accuracy: 0.6667\n",
            "Epoch 9/300\n",
            "15/15 [==============================] - 0s 25ms/step - loss: 2.0261e-04 - accuracy: 1.0000 - val_loss: 2.3336 - val_accuracy: 0.6667\n",
            "Epoch 10/300\n",
            "15/15 [==============================] - 0s 27ms/step - loss: 4.7701e-04 - accuracy: 1.0000 - val_loss: 2.3433 - val_accuracy: 0.6667\n",
            "Epoch 11/300\n",
            "15/15 [==============================] - 0s 24ms/step - loss: 5.6560e-04 - accuracy: 1.0000 - val_loss: 2.3558 - val_accuracy: 0.6667\n",
            "Epoch 12/300\n",
            "15/15 [==============================] - 0s 25ms/step - loss: 8.9783e-04 - accuracy: 1.0000 - val_loss: 2.3283 - val_accuracy: 0.6667\n",
            "Epoch 13/300\n",
            "15/15 [==============================] - 0s 27ms/step - loss: 2.7890e-04 - accuracy: 1.0000 - val_loss: 2.3361 - val_accuracy: 0.6667\n",
            "Epoch 14/300\n",
            "15/15 [==============================] - 0s 28ms/step - loss: 4.3557e-04 - accuracy: 1.0000 - val_loss: 2.3614 - val_accuracy: 0.6667\n",
            "Epoch 15/300\n",
            "15/15 [==============================] - 0s 27ms/step - loss: 1.8511e-04 - accuracy: 1.0000 - val_loss: 2.3707 - val_accuracy: 0.6667\n",
            "Epoch 16/300\n",
            "15/15 [==============================] - 0s 25ms/step - loss: 4.5847e-04 - accuracy: 1.0000 - val_loss: 2.4057 - val_accuracy: 0.6667\n",
            "Epoch 17/300\n",
            "15/15 [==============================] - 0s 26ms/step - loss: 7.5509e-05 - accuracy: 1.0000 - val_loss: 2.4209 - val_accuracy: 0.6667\n",
            "Epoch 18/300\n",
            "15/15 [==============================] - 0s 29ms/step - loss: 8.5810e-05 - accuracy: 1.0000 - val_loss: 2.4280 - val_accuracy: 0.6667\n",
            "Epoch 19/300\n",
            "15/15 [==============================] - 0s 28ms/step - loss: 5.5748e-04 - accuracy: 1.0000 - val_loss: 2.4239 - val_accuracy: 0.6667\n",
            "Epoch 20/300\n",
            "15/15 [==============================] - 0s 24ms/step - loss: 3.0607e-04 - accuracy: 1.0000 - val_loss: 2.4950 - val_accuracy: 0.6667\n",
            "Epoch 21/300\n",
            "15/15 [==============================] - 0s 25ms/step - loss: 5.8317e-04 - accuracy: 1.0000 - val_loss: 2.5303 - val_accuracy: 0.6667\n",
            "Epoch 22/300\n",
            "15/15 [==============================] - 0s 26ms/step - loss: 6.0331e-05 - accuracy: 1.0000 - val_loss: 2.5419 - val_accuracy: 0.6667\n",
            "Epoch 23/300\n",
            "15/15 [==============================] - 0s 25ms/step - loss: 5.3583e-05 - accuracy: 1.0000 - val_loss: 2.5484 - val_accuracy: 0.6667\n",
            "Epoch 24/300\n",
            "15/15 [==============================] - 0s 24ms/step - loss: 3.7907e-05 - accuracy: 1.0000 - val_loss: 2.5507 - val_accuracy: 0.6667\n",
            "Epoch 25/300\n",
            "15/15 [==============================] - 0s 24ms/step - loss: 1.9712e-04 - accuracy: 1.0000 - val_loss: 2.5630 - val_accuracy: 0.6667\n",
            "Epoch 26/300\n",
            "15/15 [==============================] - 0s 25ms/step - loss: 1.3363e-04 - accuracy: 1.0000 - val_loss: 2.5655 - val_accuracy: 0.6667\n",
            "Epoch 27/300\n",
            "15/15 [==============================] - 0s 25ms/step - loss: 9.5563e-05 - accuracy: 1.0000 - val_loss: 2.5709 - val_accuracy: 0.6667\n",
            "Epoch 28/300\n",
            "15/15 [==============================] - 0s 24ms/step - loss: 1.7645e-04 - accuracy: 1.0000 - val_loss: 2.6093 - val_accuracy: 0.6667\n",
            "Epoch 29/300\n",
            "15/15 [==============================] - 0s 26ms/step - loss: 6.5550e-05 - accuracy: 1.0000 - val_loss: 2.6831 - val_accuracy: 0.6667\n",
            "Epoch 30/300\n",
            "15/15 [==============================] - 0s 27ms/step - loss: 2.5392e-05 - accuracy: 1.0000 - val_loss: 2.7137 - val_accuracy: 0.6667\n",
            "Epoch 31/300\n",
            "15/15 [==============================] - 0s 24ms/step - loss: 2.9463e-04 - accuracy: 1.0000 - val_loss: 2.7195 - val_accuracy: 0.6667\n",
            "Epoch 32/300\n",
            "15/15 [==============================] - 0s 25ms/step - loss: 0.0030 - accuracy: 1.0000 - val_loss: 2.9127 - val_accuracy: 0.6000\n",
            "Epoch 33/300\n",
            "15/15 [==============================] - 0s 24ms/step - loss: 3.8433e-04 - accuracy: 1.0000 - val_loss: 3.3959 - val_accuracy: 0.5333\n",
            "Epoch 34/300\n",
            "15/15 [==============================] - 0s 24ms/step - loss: 0.0013 - accuracy: 1.0000 - val_loss: 3.1792 - val_accuracy: 0.5333\n",
            "Epoch 35/300\n",
            "15/15 [==============================] - 0s 25ms/step - loss: 9.3461e-05 - accuracy: 1.0000 - val_loss: 3.1085 - val_accuracy: 0.6000\n",
            "Epoch 36/300\n",
            "15/15 [==============================] - 0s 24ms/step - loss: 9.7353e-04 - accuracy: 1.0000 - val_loss: 2.8593 - val_accuracy: 0.6000\n",
            "Epoch 37/300\n",
            "15/15 [==============================] - 0s 27ms/step - loss: 1.1988e-04 - accuracy: 1.0000 - val_loss: 2.7589 - val_accuracy: 0.6667\n",
            "Epoch 38/300\n",
            "15/15 [==============================] - 0s 25ms/step - loss: 6.1852e-05 - accuracy: 1.0000 - val_loss: 2.7676 - val_accuracy: 0.6667\n",
            "Epoch 39/300\n",
            "15/15 [==============================] - 0s 25ms/step - loss: 0.0035 - accuracy: 1.0000 - val_loss: 2.4160 - val_accuracy: 0.6667\n",
            "Epoch 40/300\n",
            "15/15 [==============================] - 0s 24ms/step - loss: 1.6495e-04 - accuracy: 1.0000 - val_loss: 2.4094 - val_accuracy: 0.6667\n",
            "Epoch 41/300\n",
            "15/15 [==============================] - 0s 26ms/step - loss: 1.7070e-04 - accuracy: 1.0000 - val_loss: 2.4755 - val_accuracy: 0.6667\n",
            "Epoch 42/300\n",
            "15/15 [==============================] - 0s 25ms/step - loss: 2.2976e-05 - accuracy: 1.0000 - val_loss: 2.4992 - val_accuracy: 0.6667\n",
            "Epoch 43/300\n",
            "15/15 [==============================] - 0s 25ms/step - loss: 1.0676e-04 - accuracy: 1.0000 - val_loss: 2.5209 - val_accuracy: 0.6667\n",
            "Epoch 44/300\n",
            "15/15 [==============================] - 0s 25ms/step - loss: 0.0013 - accuracy: 1.0000 - val_loss: 2.7467 - val_accuracy: 0.6667\n",
            "Epoch 45/300\n",
            "15/15 [==============================] - 0s 26ms/step - loss: 3.5118e-04 - accuracy: 1.0000 - val_loss: 2.8591 - val_accuracy: 0.6667\n",
            "Epoch 46/300\n",
            "15/15 [==============================] - 0s 26ms/step - loss: 4.8634e-04 - accuracy: 1.0000 - val_loss: 2.7935 - val_accuracy: 0.6667\n",
            "Epoch 47/300\n",
            "15/15 [==============================] - 0s 27ms/step - loss: 6.6277e-05 - accuracy: 1.0000 - val_loss: 2.7767 - val_accuracy: 0.6667\n",
            "Epoch 48/300\n",
            "15/15 [==============================] - 0s 24ms/step - loss: 5.7059e-06 - accuracy: 1.0000 - val_loss: 2.7768 - val_accuracy: 0.6667\n",
            "Epoch 49/300\n",
            "15/15 [==============================] - 0s 25ms/step - loss: 1.8526e-05 - accuracy: 1.0000 - val_loss: 2.7754 - val_accuracy: 0.6667\n",
            "Epoch 50/300\n",
            "15/15 [==============================] - 0s 24ms/step - loss: 5.2248e-05 - accuracy: 1.0000 - val_loss: 2.7806 - val_accuracy: 0.6667\n",
            "Epoch 51/300\n",
            "15/15 [==============================] - 0s 25ms/step - loss: 1.2482e-05 - accuracy: 1.0000 - val_loss: 2.7859 - val_accuracy: 0.6667\n",
            "Epoch 52/300\n",
            "15/15 [==============================] - 0s 25ms/step - loss: 4.1744e-05 - accuracy: 1.0000 - val_loss: 2.7931 - val_accuracy: 0.6667\n",
            "Epoch 53/300\n",
            "15/15 [==============================] - 0s 26ms/step - loss: 1.6256e-04 - accuracy: 1.0000 - val_loss: 2.8144 - val_accuracy: 0.6667\n",
            "Epoch 54/300\n",
            "15/15 [==============================] - 0s 25ms/step - loss: 1.1719e-04 - accuracy: 1.0000 - val_loss: 2.8283 - val_accuracy: 0.6667\n",
            "Epoch 55/300\n",
            "15/15 [==============================] - 0s 27ms/step - loss: 1.2974e-05 - accuracy: 1.0000 - val_loss: 2.8369 - val_accuracy: 0.6667\n",
            "Epoch 56/300\n",
            "15/15 [==============================] - 0s 27ms/step - loss: 1.5530e-05 - accuracy: 1.0000 - val_loss: 2.8440 - val_accuracy: 0.6667\n",
            "Epoch 57/300\n",
            "15/15 [==============================] - 0s 25ms/step - loss: 7.0091e-06 - accuracy: 1.0000 - val_loss: 2.8482 - val_accuracy: 0.6667\n",
            "Epoch 58/300\n",
            "15/15 [==============================] - 0s 27ms/step - loss: 2.1108e-05 - accuracy: 1.0000 - val_loss: 2.8533 - val_accuracy: 0.6667\n",
            "Epoch 59/300\n",
            "15/15 [==============================] - 0s 26ms/step - loss: 8.8715e-06 - accuracy: 1.0000 - val_loss: 2.8558 - val_accuracy: 0.6667\n",
            "Epoch 60/300\n",
            "15/15 [==============================] - 0s 27ms/step - loss: 3.5462e-04 - accuracy: 1.0000 - val_loss: 2.8533 - val_accuracy: 0.6667\n",
            "Epoch 61/300\n",
            "15/15 [==============================] - 0s 25ms/step - loss: 1.3258e-04 - accuracy: 1.0000 - val_loss: 2.8451 - val_accuracy: 0.6667\n",
            "Epoch 62/300\n",
            "15/15 [==============================] - 0s 26ms/step - loss: 3.9735e-06 - accuracy: 1.0000 - val_loss: 2.8433 - val_accuracy: 0.6667\n",
            "Epoch 63/300\n",
            "15/15 [==============================] - 0s 26ms/step - loss: 1.4047e-05 - accuracy: 1.0000 - val_loss: 2.8430 - val_accuracy: 0.6667\n",
            "Epoch 64/300\n",
            "15/15 [==============================] - 0s 24ms/step - loss: 1.7457e-05 - accuracy: 1.0000 - val_loss: 2.8452 - val_accuracy: 0.6667\n",
            "Epoch 65/300\n",
            "15/15 [==============================] - 0s 25ms/step - loss: 2.0367e-04 - accuracy: 1.0000 - val_loss: 2.8053 - val_accuracy: 0.6667\n",
            "Epoch 66/300\n",
            "15/15 [==============================] - 0s 24ms/step - loss: 2.0403e-05 - accuracy: 1.0000 - val_loss: 2.7864 - val_accuracy: 0.6667\n",
            "Epoch 67/300\n",
            "15/15 [==============================] - 0s 26ms/step - loss: 6.6169e-04 - accuracy: 1.0000 - val_loss: 2.7537 - val_accuracy: 0.6667\n",
            "Epoch 68/300\n",
            "15/15 [==============================] - 0s 25ms/step - loss: 2.4285e-05 - accuracy: 1.0000 - val_loss: 2.7539 - val_accuracy: 0.6667\n",
            "Epoch 69/300\n",
            "15/15 [==============================] - 0s 26ms/step - loss: 1.0977e-04 - accuracy: 1.0000 - val_loss: 2.7749 - val_accuracy: 0.6667\n",
            "Epoch 70/300\n",
            "15/15 [==============================] - 0s 27ms/step - loss: 1.9761e-04 - accuracy: 1.0000 - val_loss: 2.8065 - val_accuracy: 0.6667\n",
            "Epoch 71/300\n",
            "15/15 [==============================] - 0s 24ms/step - loss: 3.3483e-06 - accuracy: 1.0000 - val_loss: 2.8331 - val_accuracy: 0.6667\n",
            "Epoch 72/300\n",
            "15/15 [==============================] - 0s 25ms/step - loss: 1.9228e-05 - accuracy: 1.0000 - val_loss: 2.8419 - val_accuracy: 0.6667\n",
            "Epoch 73/300\n",
            "15/15 [==============================] - 0s 26ms/step - loss: 2.3153e-06 - accuracy: 1.0000 - val_loss: 2.8480 - val_accuracy: 0.6667\n",
            "Epoch 74/300\n",
            "15/15 [==============================] - 0s 26ms/step - loss: 1.1082e-04 - accuracy: 1.0000 - val_loss: 2.8473 - val_accuracy: 0.6667\n",
            "Epoch 75/300\n",
            "15/15 [==============================] - 0s 25ms/step - loss: 3.8994e-06 - accuracy: 1.0000 - val_loss: 2.8486 - val_accuracy: 0.6667\n",
            "Epoch 76/300\n",
            "15/15 [==============================] - 0s 27ms/step - loss: 6.8263e-06 - accuracy: 1.0000 - val_loss: 2.8507 - val_accuracy: 0.6667\n",
            "Epoch 77/300\n",
            "15/15 [==============================] - 0s 26ms/step - loss: 4.4361e-05 - accuracy: 1.0000 - val_loss: 2.8563 - val_accuracy: 0.6667\n",
            "Epoch 78/300\n",
            "15/15 [==============================] - 0s 25ms/step - loss: 4.8655e-05 - accuracy: 1.0000 - val_loss: 2.8689 - val_accuracy: 0.6667\n",
            "Epoch 79/300\n",
            "15/15 [==============================] - 0s 28ms/step - loss: 4.0499e-05 - accuracy: 1.0000 - val_loss: 2.8812 - val_accuracy: 0.6667\n",
            "Epoch 80/300\n",
            "15/15 [==============================] - 0s 25ms/step - loss: 1.3528e-05 - accuracy: 1.0000 - val_loss: 2.8932 - val_accuracy: 0.6667\n",
            "Epoch 81/300\n",
            "15/15 [==============================] - 0s 25ms/step - loss: 6.3443e-06 - accuracy: 1.0000 - val_loss: 2.8987 - val_accuracy: 0.6667\n",
            "Epoch 82/300\n",
            "15/15 [==============================] - 0s 26ms/step - loss: 3.8491e-06 - accuracy: 1.0000 - val_loss: 2.9005 - val_accuracy: 0.6667\n",
            "Epoch 83/300\n",
            "15/15 [==============================] - 0s 26ms/step - loss: 2.1510e-06 - accuracy: 1.0000 - val_loss: 2.9009 - val_accuracy: 0.6667\n",
            "Epoch 84/300\n",
            "15/15 [==============================] - 0s 28ms/step - loss: 5.0887e-06 - accuracy: 1.0000 - val_loss: 2.9019 - val_accuracy: 0.6667\n",
            "Epoch 85/300\n",
            "15/15 [==============================] - 0s 25ms/step - loss: 6.0507e-05 - accuracy: 1.0000 - val_loss: 2.9180 - val_accuracy: 0.6667\n",
            "Epoch 86/300\n",
            "15/15 [==============================] - 0s 26ms/step - loss: 1.4186e-05 - accuracy: 1.0000 - val_loss: 2.9298 - val_accuracy: 0.6667\n",
            "Epoch 87/300\n",
            "15/15 [==============================] - 0s 25ms/step - loss: 1.9815e-05 - accuracy: 1.0000 - val_loss: 2.9375 - val_accuracy: 0.6667\n",
            "Epoch 88/300\n",
            "15/15 [==============================] - 0s 27ms/step - loss: 5.5426e-05 - accuracy: 1.0000 - val_loss: 2.9381 - val_accuracy: 0.6667\n",
            "Epoch 89/300\n",
            "15/15 [==============================] - 0s 27ms/step - loss: 2.0684e-05 - accuracy: 1.0000 - val_loss: 2.9441 - val_accuracy: 0.6667\n",
            "Epoch 90/300\n",
            "15/15 [==============================] - 0s 26ms/step - loss: 7.6631e-06 - accuracy: 1.0000 - val_loss: 2.9468 - val_accuracy: 0.6667\n",
            "Epoch 91/300\n",
            "15/15 [==============================] - 0s 29ms/step - loss: 1.2888e-04 - accuracy: 1.0000 - val_loss: 2.9559 - val_accuracy: 0.6667\n",
            "Epoch 92/300\n",
            "15/15 [==============================] - 0s 26ms/step - loss: 3.4761e-05 - accuracy: 1.0000 - val_loss: 2.9670 - val_accuracy: 0.6667\n",
            "Epoch 93/300\n",
            "15/15 [==============================] - 0s 26ms/step - loss: 1.4719e-04 - accuracy: 1.0000 - val_loss: 2.9755 - val_accuracy: 0.6667\n",
            "Epoch 94/300\n",
            "15/15 [==============================] - 0s 25ms/step - loss: 7.2579e-06 - accuracy: 1.0000 - val_loss: 2.9788 - val_accuracy: 0.6667\n",
            "Epoch 95/300\n",
            "15/15 [==============================] - 0s 25ms/step - loss: 1.2298e-05 - accuracy: 1.0000 - val_loss: 2.9805 - val_accuracy: 0.6667\n",
            "Epoch 96/300\n",
            "15/15 [==============================] - 0s 27ms/step - loss: 0.0019 - accuracy: 1.0000 - val_loss: 3.0639 - val_accuracy: 0.6667\n",
            "Epoch 97/300\n",
            "15/15 [==============================] - 0s 26ms/step - loss: 2.7302e-04 - accuracy: 1.0000 - val_loss: 3.9179 - val_accuracy: 0.6000\n",
            "Epoch 98/300\n",
            "15/15 [==============================] - 0s 25ms/step - loss: 9.6704e-04 - accuracy: 1.0000 - val_loss: 3.8407 - val_accuracy: 0.6000\n",
            "Epoch 99/300\n",
            "15/15 [==============================] - 0s 28ms/step - loss: 2.0325e-04 - accuracy: 1.0000 - val_loss: 3.2115 - val_accuracy: 0.6000\n",
            "Epoch 100/300\n",
            "15/15 [==============================] - 0s 25ms/step - loss: 0.0812 - accuracy: 0.9778 - val_loss: 3.2209 - val_accuracy: 0.6667\n",
            "Epoch 101/300\n",
            "15/15 [==============================] - 0s 27ms/step - loss: 0.0050 - accuracy: 1.0000 - val_loss: 2.5051 - val_accuracy: 0.5333\n",
            "Epoch 102/300\n",
            "15/15 [==============================] - 0s 27ms/step - loss: 0.1446 - accuracy: 0.9556 - val_loss: 2.0867 - val_accuracy: 0.6000\n",
            "Epoch 103/300\n",
            "15/15 [==============================] - 0s 28ms/step - loss: 0.0219 - accuracy: 1.0000 - val_loss: 2.4493 - val_accuracy: 0.6000\n",
            "Epoch 104/300\n",
            "15/15 [==============================] - 0s 26ms/step - loss: 0.1174 - accuracy: 0.9556 - val_loss: 2.1147 - val_accuracy: 0.6667\n",
            "Epoch 105/300\n",
            "15/15 [==============================] - 0s 25ms/step - loss: 0.0173 - accuracy: 1.0000 - val_loss: 2.1065 - val_accuracy: 0.6000\n",
            "Epoch 106/300\n",
            "15/15 [==============================] - 0s 24ms/step - loss: 0.7451 - accuracy: 0.9111 - val_loss: 3.5156 - val_accuracy: 0.6667\n",
            "Epoch 107/300\n",
            "15/15 [==============================] - 0s 25ms/step - loss: 0.2453 - accuracy: 0.9333 - val_loss: 2.2400 - val_accuracy: 0.6000\n",
            "Epoch 108/300\n",
            "15/15 [==============================] - 0s 25ms/step - loss: 0.0485 - accuracy: 0.9778 - val_loss: 2.8680 - val_accuracy: 0.7333\n",
            "Epoch 109/300\n",
            "15/15 [==============================] - 0s 26ms/step - loss: 0.1647 - accuracy: 0.9556 - val_loss: 2.4883 - val_accuracy: 0.6000\n",
            "Epoch 110/300\n",
            "15/15 [==============================] - 0s 27ms/step - loss: 0.0456 - accuracy: 0.9778 - val_loss: 3.6773 - val_accuracy: 0.6000\n",
            "Epoch 111/300\n",
            "15/15 [==============================] - 0s 26ms/step - loss: 0.0598 - accuracy: 0.9556 - val_loss: 2.7344 - val_accuracy: 0.6667\n",
            "Epoch 112/300\n",
            "15/15 [==============================] - 0s 26ms/step - loss: 0.0682 - accuracy: 0.9556 - val_loss: 4.0868 - val_accuracy: 0.5333\n",
            "Epoch 113/300\n",
            "15/15 [==============================] - 0s 27ms/step - loss: 0.0280 - accuracy: 0.9778 - val_loss: 2.8184 - val_accuracy: 0.6667\n",
            "Epoch 114/300\n",
            "15/15 [==============================] - 0s 27ms/step - loss: 0.0049 - accuracy: 1.0000 - val_loss: 2.2989 - val_accuracy: 0.7333\n",
            "Epoch 115/300\n",
            "15/15 [==============================] - 0s 27ms/step - loss: 0.0828 - accuracy: 0.9778 - val_loss: 3.1954 - val_accuracy: 0.5333\n",
            "Epoch 116/300\n",
            "15/15 [==============================] - 0s 26ms/step - loss: 0.0023 - accuracy: 1.0000 - val_loss: 2.8669 - val_accuracy: 0.6667\n",
            "Epoch 117/300\n",
            "15/15 [==============================] - 0s 29ms/step - loss: 0.0463 - accuracy: 0.9778 - val_loss: 3.7946 - val_accuracy: 0.6000\n",
            "Epoch 118/300\n",
            "15/15 [==============================] - 0s 25ms/step - loss: 0.0025 - accuracy: 1.0000 - val_loss: 4.3129 - val_accuracy: 0.6000\n",
            "Epoch 119/300\n",
            "15/15 [==============================] - 0s 25ms/step - loss: 0.0025 - accuracy: 1.0000 - val_loss: 4.4010 - val_accuracy: 0.6000\n",
            "Epoch 120/300\n",
            "15/15 [==============================] - 0s 26ms/step - loss: 0.0651 - accuracy: 0.9333 - val_loss: 4.5941 - val_accuracy: 0.5333\n",
            "Epoch 121/300\n",
            "15/15 [==============================] - 0s 28ms/step - loss: 0.0247 - accuracy: 0.9778 - val_loss: 4.0073 - val_accuracy: 0.6667\n",
            "Epoch 122/300\n",
            "15/15 [==============================] - 0s 25ms/step - loss: 0.0013 - accuracy: 1.0000 - val_loss: 3.8644 - val_accuracy: 0.6667\n",
            "Epoch 123/300\n",
            "15/15 [==============================] - 0s 26ms/step - loss: 1.3085e-04 - accuracy: 1.0000 - val_loss: 3.7730 - val_accuracy: 0.6667\n",
            "Epoch 124/300\n",
            "15/15 [==============================] - 0s 27ms/step - loss: 1.6412e-04 - accuracy: 1.0000 - val_loss: 3.7764 - val_accuracy: 0.6667\n",
            "Epoch 125/300\n",
            "15/15 [==============================] - 0s 27ms/step - loss: 1.1579e-04 - accuracy: 1.0000 - val_loss: 3.7981 - val_accuracy: 0.6667\n",
            "Epoch 126/300\n",
            "15/15 [==============================] - 0s 25ms/step - loss: 8.0564e-05 - accuracy: 1.0000 - val_loss: 3.8099 - val_accuracy: 0.6667\n",
            "Epoch 127/300\n",
            "15/15 [==============================] - 0s 26ms/step - loss: 2.7640e-04 - accuracy: 1.0000 - val_loss: 3.9078 - val_accuracy: 0.6667\n",
            "Epoch 128/300\n",
            "15/15 [==============================] - 0s 25ms/step - loss: 6.9367e-04 - accuracy: 1.0000 - val_loss: 3.8620 - val_accuracy: 0.6667\n",
            "Epoch 129/300\n",
            "15/15 [==============================] - 0s 26ms/step - loss: 4.3104e-05 - accuracy: 1.0000 - val_loss: 3.7581 - val_accuracy: 0.6667\n",
            "Epoch 130/300\n",
            "15/15 [==============================] - 0s 25ms/step - loss: 0.0012 - accuracy: 1.0000 - val_loss: 3.8079 - val_accuracy: 0.6667\n",
            "Epoch 131/300\n",
            "15/15 [==============================] - 0s 28ms/step - loss: 9.2593e-04 - accuracy: 1.0000 - val_loss: 4.2016 - val_accuracy: 0.6667\n",
            "Epoch 132/300\n",
            "15/15 [==============================] - 0s 25ms/step - loss: 7.7857e-05 - accuracy: 1.0000 - val_loss: 4.3956 - val_accuracy: 0.6667\n",
            "Epoch 133/300\n",
            "15/15 [==============================] - 0s 28ms/step - loss: 0.0080 - accuracy: 1.0000 - val_loss: 5.3836 - val_accuracy: 0.5333\n",
            "Epoch 134/300\n",
            "15/15 [==============================] - 0s 26ms/step - loss: 0.0124 - accuracy: 1.0000 - val_loss: 3.8884 - val_accuracy: 0.5333\n",
            "Epoch 135/300\n",
            "15/15 [==============================] - 0s 25ms/step - loss: 1.9932e-05 - accuracy: 1.0000 - val_loss: 3.0749 - val_accuracy: 0.6667\n",
            "Epoch 136/300\n",
            "15/15 [==============================] - 0s 29ms/step - loss: 6.1709e-05 - accuracy: 1.0000 - val_loss: 2.9621 - val_accuracy: 0.6667\n",
            "Epoch 137/300\n",
            "15/15 [==============================] - 0s 26ms/step - loss: 0.0205 - accuracy: 0.9778 - val_loss: 2.9730 - val_accuracy: 0.6667\n",
            "Epoch 138/300\n",
            "15/15 [==============================] - 0s 27ms/step - loss: 2.7891e-04 - accuracy: 1.0000 - val_loss: 2.6348 - val_accuracy: 0.7333\n",
            "Epoch 139/300\n",
            "15/15 [==============================] - 0s 25ms/step - loss: 0.0049 - accuracy: 1.0000 - val_loss: 3.1159 - val_accuracy: 0.6000\n",
            "Epoch 140/300\n",
            "15/15 [==============================] - 0s 25ms/step - loss: 0.0015 - accuracy: 1.0000 - val_loss: 4.1715 - val_accuracy: 0.5333\n",
            "Epoch 141/300\n",
            "15/15 [==============================] - 0s 26ms/step - loss: 4.5719e-04 - accuracy: 1.0000 - val_loss: 4.1038 - val_accuracy: 0.6000\n",
            "Epoch 142/300\n",
            "15/15 [==============================] - 0s 25ms/step - loss: 2.9622e-04 - accuracy: 1.0000 - val_loss: 3.9544 - val_accuracy: 0.5333\n",
            "Epoch 143/300\n",
            "15/15 [==============================] - 0s 25ms/step - loss: 1.2676e-04 - accuracy: 1.0000 - val_loss: 3.7740 - val_accuracy: 0.6000\n",
            "Epoch 144/300\n",
            "15/15 [==============================] - 0s 26ms/step - loss: 9.2474e-05 - accuracy: 1.0000 - val_loss: 3.7752 - val_accuracy: 0.6000\n",
            "Epoch 145/300\n",
            "15/15 [==============================] - 0s 24ms/step - loss: 1.7551e-04 - accuracy: 1.0000 - val_loss: 3.7826 - val_accuracy: 0.6667\n",
            "Epoch 146/300\n",
            "15/15 [==============================] - 0s 25ms/step - loss: 1.7273e-04 - accuracy: 1.0000 - val_loss: 3.8201 - val_accuracy: 0.6667\n",
            "Epoch 147/300\n",
            "15/15 [==============================] - 0s 24ms/step - loss: 0.0024 - accuracy: 1.0000 - val_loss: 4.6420 - val_accuracy: 0.6667\n",
            "Epoch 148/300\n",
            "15/15 [==============================] - 0s 25ms/step - loss: 0.1117 - accuracy: 0.9556 - val_loss: 6.4188 - val_accuracy: 0.5333\n",
            "Epoch 149/300\n",
            "15/15 [==============================] - 0s 25ms/step - loss: 0.0013 - accuracy: 1.0000 - val_loss: 4.5504 - val_accuracy: 0.6000\n",
            "Epoch 150/300\n",
            "15/15 [==============================] - 0s 26ms/step - loss: 0.0065 - accuracy: 1.0000 - val_loss: 5.4692 - val_accuracy: 0.4667\n",
            "Epoch 151/300\n",
            "15/15 [==============================] - 0s 26ms/step - loss: 7.4683e-04 - accuracy: 1.0000 - val_loss: 7.5049 - val_accuracy: 0.4000\n",
            "Epoch 152/300\n",
            "15/15 [==============================] - 0s 26ms/step - loss: 2.7945e-04 - accuracy: 1.0000 - val_loss: 7.5855 - val_accuracy: 0.4000\n",
            "Epoch 153/300\n",
            "15/15 [==============================] - 0s 25ms/step - loss: 5.6686e-06 - accuracy: 1.0000 - val_loss: 7.5943 - val_accuracy: 0.4000\n",
            "Epoch 154/300\n",
            "15/15 [==============================] - 0s 28ms/step - loss: 0.0044 - accuracy: 1.0000 - val_loss: 7.5933 - val_accuracy: 0.4000\n",
            "Epoch 155/300\n",
            "15/15 [==============================] - 0s 26ms/step - loss: 9.6951e-06 - accuracy: 1.0000 - val_loss: 8.0586 - val_accuracy: 0.5333\n",
            "Epoch 156/300\n",
            "15/15 [==============================] - 0s 26ms/step - loss: 0.0462 - accuracy: 0.9778 - val_loss: 3.7970 - val_accuracy: 0.6000\n",
            "Epoch 157/300\n",
            "15/15 [==============================] - 0s 27ms/step - loss: 0.0012 - accuracy: 1.0000 - val_loss: 3.2403 - val_accuracy: 0.8000\n",
            "Epoch 158/300\n",
            "15/15 [==============================] - 0s 27ms/step - loss: 1.1489e-04 - accuracy: 1.0000 - val_loss: 3.2360 - val_accuracy: 0.8667\n",
            "Epoch 159/300\n",
            "15/15 [==============================] - 0s 25ms/step - loss: 0.1347 - accuracy: 0.9778 - val_loss: 2.3864 - val_accuracy: 0.8000\n",
            "Epoch 160/300\n",
            "15/15 [==============================] - 1s 33ms/step - loss: 2.9414e-04 - accuracy: 1.0000 - val_loss: 2.0280 - val_accuracy: 0.7333\n",
            "Epoch 161/300\n",
            "15/15 [==============================] - 0s 28ms/step - loss: 0.0131 - accuracy: 1.0000 - val_loss: 2.2723 - val_accuracy: 0.7333\n",
            "Epoch 162/300\n",
            "15/15 [==============================] - 1s 35ms/step - loss: 0.0096 - accuracy: 1.0000 - val_loss: 2.2606 - val_accuracy: 0.7333\n",
            "Epoch 163/300\n",
            "15/15 [==============================] - 1s 33ms/step - loss: 0.0338 - accuracy: 0.9778 - val_loss: 4.2930 - val_accuracy: 0.7333\n",
            "Epoch 164/300\n",
            "15/15 [==============================] - 1s 31ms/step - loss: 0.0043 - accuracy: 1.0000 - val_loss: 4.2570 - val_accuracy: 0.7333\n",
            "Epoch 165/300\n",
            "15/15 [==============================] - 1s 31ms/step - loss: 0.0016 - accuracy: 1.0000 - val_loss: 4.1527 - val_accuracy: 0.7333\n",
            "Epoch 166/300\n",
            "15/15 [==============================] - 1s 36ms/step - loss: 1.8094e-05 - accuracy: 1.0000 - val_loss: 4.1163 - val_accuracy: 0.7333\n",
            "Epoch 167/300\n",
            "15/15 [==============================] - 0s 30ms/step - loss: 4.9842e-04 - accuracy: 1.0000 - val_loss: 4.1121 - val_accuracy: 0.7333\n",
            "Epoch 168/300\n",
            "15/15 [==============================] - 0s 30ms/step - loss: 1.8851e-05 - accuracy: 1.0000 - val_loss: 4.1376 - val_accuracy: 0.7333\n",
            "Epoch 169/300\n",
            "15/15 [==============================] - 1s 43ms/step - loss: 5.2575e-04 - accuracy: 1.0000 - val_loss: 4.1064 - val_accuracy: 0.7333\n",
            "Epoch 170/300\n",
            "15/15 [==============================] - 1s 40ms/step - loss: 2.7501e-05 - accuracy: 1.0000 - val_loss: 4.0986 - val_accuracy: 0.7333\n",
            "Epoch 171/300\n",
            "15/15 [==============================] - 0s 25ms/step - loss: 0.0643 - accuracy: 0.9778 - val_loss: 5.5357 - val_accuracy: 0.6667\n",
            "Epoch 172/300\n",
            "15/15 [==============================] - 0s 25ms/step - loss: 0.0044 - accuracy: 1.0000 - val_loss: 5.6574 - val_accuracy: 0.6667\n",
            "Epoch 173/300\n",
            "15/15 [==============================] - 0s 26ms/step - loss: 8.4236e-05 - accuracy: 1.0000 - val_loss: 5.1020 - val_accuracy: 0.6667\n",
            "Epoch 174/300\n",
            "15/15 [==============================] - 0s 26ms/step - loss: 0.0023 - accuracy: 1.0000 - val_loss: 4.9199 - val_accuracy: 0.6667\n",
            "Epoch 175/300\n",
            "15/15 [==============================] - 0s 27ms/step - loss: 7.6165e-04 - accuracy: 1.0000 - val_loss: 4.7076 - val_accuracy: 0.6667\n",
            "Epoch 176/300\n",
            "15/15 [==============================] - 0s 28ms/step - loss: 0.0012 - accuracy: 1.0000 - val_loss: 4.5596 - val_accuracy: 0.6667\n",
            "Epoch 177/300\n",
            "15/15 [==============================] - 0s 29ms/step - loss: 0.0859 - accuracy: 0.9778 - val_loss: 3.2040 - val_accuracy: 0.7333\n",
            "Epoch 178/300\n",
            "15/15 [==============================] - 0s 25ms/step - loss: 5.5389e-05 - accuracy: 1.0000 - val_loss: 3.3850 - val_accuracy: 0.8000\n",
            "Epoch 179/300\n",
            "15/15 [==============================] - 0s 28ms/step - loss: 0.0049 - accuracy: 1.0000 - val_loss: 3.9617 - val_accuracy: 0.8000\n",
            "Epoch 180/300\n",
            "15/15 [==============================] - 0s 26ms/step - loss: 0.0094 - accuracy: 1.0000 - val_loss: 3.9946 - val_accuracy: 0.6667\n",
            "Epoch 181/300\n",
            "15/15 [==============================] - 0s 27ms/step - loss: 7.0643e-06 - accuracy: 1.0000 - val_loss: 4.0832 - val_accuracy: 0.6667\n",
            "Epoch 182/300\n",
            "15/15 [==============================] - 0s 25ms/step - loss: 4.7368e-05 - accuracy: 1.0000 - val_loss: 4.0923 - val_accuracy: 0.6667\n",
            "Epoch 183/300\n",
            "15/15 [==============================] - 0s 27ms/step - loss: 0.0073 - accuracy: 1.0000 - val_loss: 5.1518 - val_accuracy: 0.6000\n",
            "Epoch 184/300\n",
            "15/15 [==============================] - 0s 26ms/step - loss: 0.0014 - accuracy: 1.0000 - val_loss: 4.4171 - val_accuracy: 0.6000\n",
            "Epoch 185/300\n",
            "15/15 [==============================] - 0s 27ms/step - loss: 1.3477e-04 - accuracy: 1.0000 - val_loss: 4.2283 - val_accuracy: 0.6000\n",
            "Epoch 186/300\n",
            "15/15 [==============================] - 0s 28ms/step - loss: 4.3242e-05 - accuracy: 1.0000 - val_loss: 4.1841 - val_accuracy: 0.6000\n",
            "Epoch 187/300\n",
            "15/15 [==============================] - 0s 28ms/step - loss: 3.0861e-06 - accuracy: 1.0000 - val_loss: 4.1749 - val_accuracy: 0.6000\n",
            "Epoch 188/300\n",
            "15/15 [==============================] - 0s 25ms/step - loss: 2.1669e-06 - accuracy: 1.0000 - val_loss: 4.1726 - val_accuracy: 0.6000\n",
            "Epoch 189/300\n",
            "15/15 [==============================] - 0s 27ms/step - loss: 2.9674e-04 - accuracy: 1.0000 - val_loss: 4.1572 - val_accuracy: 0.6000\n",
            "Epoch 190/300\n",
            "15/15 [==============================] - 0s 25ms/step - loss: 7.9935e-05 - accuracy: 1.0000 - val_loss: 4.0881 - val_accuracy: 0.6667\n",
            "Epoch 191/300\n",
            "15/15 [==============================] - 0s 27ms/step - loss: 4.9562e-06 - accuracy: 1.0000 - val_loss: 4.0539 - val_accuracy: 0.6667\n",
            "Epoch 192/300\n",
            "15/15 [==============================] - 0s 26ms/step - loss: 1.0470e-05 - accuracy: 1.0000 - val_loss: 4.0448 - val_accuracy: 0.6667\n",
            "Epoch 193/300\n",
            "15/15 [==============================] - 0s 25ms/step - loss: 3.3114e-07 - accuracy: 1.0000 - val_loss: 4.0424 - val_accuracy: 0.6667\n",
            "Epoch 194/300\n",
            "15/15 [==============================] - 0s 28ms/step - loss: 1.5604e-05 - accuracy: 1.0000 - val_loss: 4.0416 - val_accuracy: 0.6667\n",
            "Epoch 195/300\n",
            "15/15 [==============================] - 0s 26ms/step - loss: 0.0013 - accuracy: 1.0000 - val_loss: 3.7981 - val_accuracy: 0.7333\n",
            "Epoch 196/300\n",
            "15/15 [==============================] - 0s 26ms/step - loss: 6.7286e-07 - accuracy: 1.0000 - val_loss: 3.7630 - val_accuracy: 0.7333\n",
            "Epoch 197/300\n",
            "15/15 [==============================] - 0s 26ms/step - loss: 4.7892e-06 - accuracy: 1.0000 - val_loss: 3.7557 - val_accuracy: 0.7333\n",
            "Epoch 198/300\n",
            "15/15 [==============================] - 0s 25ms/step - loss: 4.8422e-06 - accuracy: 1.0000 - val_loss: 3.7535 - val_accuracy: 0.7333\n",
            "Epoch 199/300\n",
            "15/15 [==============================] - 0s 29ms/step - loss: 0.0033 - accuracy: 1.0000 - val_loss: 3.6250 - val_accuracy: 0.7333\n",
            "Epoch 200/300\n",
            "15/15 [==============================] - 0s 26ms/step - loss: 2.8927e-06 - accuracy: 1.0000 - val_loss: 3.5723 - val_accuracy: 0.7333\n",
            "Epoch 201/300\n",
            "15/15 [==============================] - 0s 27ms/step - loss: 6.9373e-05 - accuracy: 1.0000 - val_loss: 3.5687 - val_accuracy: 0.8000\n",
            "Epoch 202/300\n",
            "15/15 [==============================] - 0s 26ms/step - loss: 4.7684e-08 - accuracy: 1.0000 - val_loss: 3.5848 - val_accuracy: 0.8667\n",
            "Epoch 203/300\n",
            "15/15 [==============================] - 0s 26ms/step - loss: 2.1113e-06 - accuracy: 1.0000 - val_loss: 3.5882 - val_accuracy: 0.8667\n",
            "Epoch 204/300\n",
            "15/15 [==============================] - 0s 26ms/step - loss: 3.4967e-06 - accuracy: 1.0000 - val_loss: 3.5885 - val_accuracy: 0.8667\n",
            "Epoch 205/300\n",
            "15/15 [==============================] - 0s 25ms/step - loss: 6.6645e-06 - accuracy: 1.0000 - val_loss: 3.5879 - val_accuracy: 0.8667\n",
            "Epoch 206/300\n",
            "15/15 [==============================] - 0s 26ms/step - loss: 9.8281e-07 - accuracy: 1.0000 - val_loss: 3.5878 - val_accuracy: 0.8667\n",
            "Epoch 207/300\n",
            "15/15 [==============================] - 0s 25ms/step - loss: 2.4713e-04 - accuracy: 1.0000 - val_loss: 3.5781 - val_accuracy: 0.8667\n",
            "Epoch 208/300\n",
            "15/15 [==============================] - 0s 28ms/step - loss: 2.0928e-07 - accuracy: 1.0000 - val_loss: 3.5738 - val_accuracy: 0.8667\n",
            "Epoch 209/300\n",
            "15/15 [==============================] - 0s 25ms/step - loss: 7.0508e-06 - accuracy: 1.0000 - val_loss: 3.5730 - val_accuracy: 0.8667\n",
            "Epoch 210/300\n",
            "15/15 [==============================] - 0s 27ms/step - loss: 2.0497e-05 - accuracy: 1.0000 - val_loss: 3.5772 - val_accuracy: 0.8667\n",
            "Epoch 211/300\n",
            "15/15 [==============================] - 0s 26ms/step - loss: 9.5102e-07 - accuracy: 1.0000 - val_loss: 3.5786 - val_accuracy: 0.8667\n",
            "Epoch 212/300\n",
            "15/15 [==============================] - 0s 26ms/step - loss: 5.8909e-06 - accuracy: 1.0000 - val_loss: 3.5795 - val_accuracy: 0.8667\n",
            "Epoch 213/300\n",
            "15/15 [==============================] - 0s 27ms/step - loss: 1.6213e-04 - accuracy: 1.0000 - val_loss: 3.6304 - val_accuracy: 0.8000\n",
            "Epoch 214/300\n",
            "15/15 [==============================] - 0s 27ms/step - loss: 3.6557e-07 - accuracy: 1.0000 - val_loss: 3.6426 - val_accuracy: 0.8000\n",
            "Epoch 215/300\n",
            "15/15 [==============================] - 0s 26ms/step - loss: 3.8674e-06 - accuracy: 1.0000 - val_loss: 3.6455 - val_accuracy: 0.8000\n",
            "Epoch 216/300\n",
            "15/15 [==============================] - 0s 26ms/step - loss: 4.4591e-05 - accuracy: 1.0000 - val_loss: 3.6504 - val_accuracy: 0.8000\n",
            "Epoch 217/300\n",
            "15/15 [==============================] - 0s 26ms/step - loss: 9.1657e-07 - accuracy: 1.0000 - val_loss: 3.6560 - val_accuracy: 0.8000\n",
            "Epoch 218/300\n",
            "15/15 [==============================] - 0s 25ms/step - loss: 1.2668e-05 - accuracy: 1.0000 - val_loss: 3.6600 - val_accuracy: 0.8000\n",
            "Epoch 219/300\n",
            "15/15 [==============================] - 0s 26ms/step - loss: 0.0341 - accuracy: 0.9778 - val_loss: 6.3425 - val_accuracy: 0.6667\n",
            "Epoch 220/300\n",
            "15/15 [==============================] - 0s 26ms/step - loss: 0.0246 - accuracy: 1.0000 - val_loss: 4.4491 - val_accuracy: 0.8000\n",
            "Epoch 221/300\n",
            "15/15 [==============================] - 0s 29ms/step - loss: 7.8028e-05 - accuracy: 1.0000 - val_loss: 4.1423 - val_accuracy: 0.6667\n",
            "Epoch 222/300\n",
            "15/15 [==============================] - 0s 25ms/step - loss: 0.0011 - accuracy: 1.0000 - val_loss: 4.2644 - val_accuracy: 0.6667\n",
            "Epoch 223/300\n",
            "15/15 [==============================] - 0s 27ms/step - loss: 4.6763e-05 - accuracy: 1.0000 - val_loss: 4.4057 - val_accuracy: 0.6667\n",
            "Epoch 224/300\n",
            "15/15 [==============================] - 0s 26ms/step - loss: 1.3749e-06 - accuracy: 1.0000 - val_loss: 4.4366 - val_accuracy: 0.6667\n",
            "Epoch 225/300\n",
            "15/15 [==============================] - 0s 26ms/step - loss: 2.6491e-09 - accuracy: 1.0000 - val_loss: 4.4433 - val_accuracy: 0.6667\n",
            "Epoch 226/300\n",
            "15/15 [==============================] - 0s 27ms/step - loss: 2.7641e-04 - accuracy: 1.0000 - val_loss: 4.4380 - val_accuracy: 0.6667\n",
            "Epoch 227/300\n",
            "15/15 [==============================] - 0s 26ms/step - loss: 1.3775e-07 - accuracy: 1.0000 - val_loss: 4.3935 - val_accuracy: 0.6667\n",
            "Epoch 228/300\n",
            "15/15 [==============================] - 0s 26ms/step - loss: 1.6053e-06 - accuracy: 1.0000 - val_loss: 4.3851 - val_accuracy: 0.6667\n",
            "Epoch 229/300\n",
            "15/15 [==============================] - 0s 27ms/step - loss: 7.6824e-08 - accuracy: 1.0000 - val_loss: 4.3835 - val_accuracy: 0.6667\n",
            "Epoch 230/300\n",
            "15/15 [==============================] - 0s 26ms/step - loss: 1.0331e-07 - accuracy: 1.0000 - val_loss: 4.3832 - val_accuracy: 0.6667\n",
            "Epoch 231/300\n",
            "15/15 [==============================] - 0s 26ms/step - loss: 1.0570e-06 - accuracy: 1.0000 - val_loss: 4.3831 - val_accuracy: 0.6667\n",
            "Epoch 232/300\n",
            "15/15 [==============================] - 0s 26ms/step - loss: 3.3907e-06 - accuracy: 1.0000 - val_loss: 4.3833 - val_accuracy: 0.6667\n",
            "Epoch 233/300\n",
            "15/15 [==============================] - 0s 27ms/step - loss: 0.0000e+00 - accuracy: 1.0000 - val_loss: 4.3834 - val_accuracy: 0.6667\n",
            "Epoch 234/300\n",
            "15/15 [==============================] - 0s 25ms/step - loss: 3.1232e-06 - accuracy: 1.0000 - val_loss: 4.3841 - val_accuracy: 0.6667\n",
            "Epoch 235/300\n",
            "15/15 [==============================] - 0s 26ms/step - loss: 0.0011 - accuracy: 1.0000 - val_loss: 4.9216 - val_accuracy: 0.6667\n",
            "Epoch 236/300\n",
            "15/15 [==============================] - 0s 26ms/step - loss: 4.7574e-06 - accuracy: 1.0000 - val_loss: 5.0772 - val_accuracy: 0.6667\n",
            "Epoch 237/300\n",
            "15/15 [==============================] - 0s 27ms/step - loss: 3.5605e-05 - accuracy: 1.0000 - val_loss: 5.1105 - val_accuracy: 0.6667\n",
            "Epoch 238/300\n",
            "15/15 [==============================] - 0s 26ms/step - loss: 1.4660e-04 - accuracy: 1.0000 - val_loss: 5.0672 - val_accuracy: 0.6667\n",
            "Epoch 239/300\n",
            "15/15 [==============================] - 0s 27ms/step - loss: 6.3705e-04 - accuracy: 1.0000 - val_loss: 4.9227 - val_accuracy: 0.6667\n",
            "Epoch 240/300\n",
            "15/15 [==============================] - 0s 28ms/step - loss: 1.3245e-08 - accuracy: 1.0000 - val_loss: 4.7863 - val_accuracy: 0.6667\n",
            "Epoch 241/300\n",
            "15/15 [==============================] - 0s 27ms/step - loss: 2.1524e-04 - accuracy: 1.0000 - val_loss: 4.8062 - val_accuracy: 0.6667\n",
            "Epoch 242/300\n",
            "15/15 [==============================] - 0s 26ms/step - loss: 1.0168e-05 - accuracy: 1.0000 - val_loss: 4.8161 - val_accuracy: 0.6667\n",
            "Epoch 243/300\n",
            "15/15 [==============================] - 0s 27ms/step - loss: 0.1457 - accuracy: 0.9778 - val_loss: 4.3716 - val_accuracy: 0.6000\n",
            "Epoch 244/300\n",
            "15/15 [==============================] - 0s 28ms/step - loss: 0.1567 - accuracy: 0.9778 - val_loss: 2.8299 - val_accuracy: 0.6667\n",
            "Epoch 245/300\n",
            "15/15 [==============================] - 0s 26ms/step - loss: 0.0091 - accuracy: 1.0000 - val_loss: 2.9894 - val_accuracy: 0.6000\n",
            "Epoch 246/300\n",
            "15/15 [==============================] - 0s 30ms/step - loss: 0.0036 - accuracy: 1.0000 - val_loss: 2.9078 - val_accuracy: 0.6667\n",
            "Epoch 247/300\n",
            "15/15 [==============================] - 0s 27ms/step - loss: 0.0767 - accuracy: 0.9778 - val_loss: 4.3854 - val_accuracy: 0.5333\n",
            "Epoch 248/300\n",
            "15/15 [==============================] - 0s 27ms/step - loss: 0.0472 - accuracy: 0.9778 - val_loss: 3.9472 - val_accuracy: 0.6000\n",
            "Epoch 249/300\n",
            "15/15 [==============================] - 0s 29ms/step - loss: 8.3495e-06 - accuracy: 1.0000 - val_loss: 3.7149 - val_accuracy: 0.6000\n",
            "Epoch 250/300\n",
            "15/15 [==============================] - 0s 30ms/step - loss: 6.6488e-04 - accuracy: 1.0000 - val_loss: 3.7309 - val_accuracy: 0.6000\n",
            "Epoch 251/300\n",
            "15/15 [==============================] - 0s 30ms/step - loss: 0.0015 - accuracy: 1.0000 - val_loss: 3.8897 - val_accuracy: 0.6000\n",
            "Epoch 252/300\n",
            "15/15 [==============================] - 0s 26ms/step - loss: 0.0108 - accuracy: 1.0000 - val_loss: 3.5773 - val_accuracy: 0.7333\n",
            "Epoch 253/300\n",
            "15/15 [==============================] - 0s 29ms/step - loss: 4.3693e-04 - accuracy: 1.0000 - val_loss: 3.6228 - val_accuracy: 0.7333\n",
            "Epoch 254/300\n",
            "15/15 [==============================] - 0s 28ms/step - loss: 1.6676e-05 - accuracy: 1.0000 - val_loss: 3.6125 - val_accuracy: 0.7333\n",
            "Epoch 255/300\n",
            "15/15 [==============================] - 0s 31ms/step - loss: 1.0869e-04 - accuracy: 1.0000 - val_loss: 3.6100 - val_accuracy: 0.7333\n",
            "Epoch 256/300\n",
            "15/15 [==============================] - 0s 26ms/step - loss: 2.3232e-06 - accuracy: 1.0000 - val_loss: 3.6086 - val_accuracy: 0.7333\n",
            "Epoch 257/300\n",
            "15/15 [==============================] - 0s 29ms/step - loss: 2.3841e-04 - accuracy: 1.0000 - val_loss: 3.6164 - val_accuracy: 0.7333\n",
            "Epoch 258/300\n",
            "15/15 [==============================] - 0s 26ms/step - loss: 8.3047e-05 - accuracy: 1.0000 - val_loss: 3.6249 - val_accuracy: 0.7333\n",
            "Epoch 259/300\n",
            "15/15 [==============================] - 0s 26ms/step - loss: 0.0082 - accuracy: 1.0000 - val_loss: 5.4606 - val_accuracy: 0.6000\n",
            "Epoch 260/300\n",
            "15/15 [==============================] - 0s 28ms/step - loss: 6.5781e-04 - accuracy: 1.0000 - val_loss: 5.8182 - val_accuracy: 0.6000\n",
            "Epoch 261/300\n",
            "15/15 [==============================] - 0s 26ms/step - loss: 0.0014 - accuracy: 1.0000 - val_loss: 5.6371 - val_accuracy: 0.6000\n",
            "Epoch 262/300\n",
            "15/15 [==============================] - 0s 27ms/step - loss: 0.0024 - accuracy: 1.0000 - val_loss: 4.5930 - val_accuracy: 0.6000\n",
            "Epoch 263/300\n",
            "15/15 [==============================] - 0s 27ms/step - loss: 2.7364e-05 - accuracy: 1.0000 - val_loss: 4.3913 - val_accuracy: 0.6000\n",
            "Epoch 264/300\n",
            "15/15 [==============================] - 0s 26ms/step - loss: 1.9685e-04 - accuracy: 1.0000 - val_loss: 4.3198 - val_accuracy: 0.6000\n",
            "Epoch 265/300\n",
            "15/15 [==============================] - 0s 27ms/step - loss: 0.1168 - accuracy: 0.9778 - val_loss: 3.1852 - val_accuracy: 0.7333\n",
            "Epoch 266/300\n",
            "15/15 [==============================] - 0s 28ms/step - loss: 0.0153 - accuracy: 1.0000 - val_loss: 4.1443 - val_accuracy: 0.7333\n",
            "Epoch 267/300\n",
            "15/15 [==============================] - 0s 30ms/step - loss: 0.0012 - accuracy: 1.0000 - val_loss: 4.8980 - val_accuracy: 0.7333\n",
            "Epoch 268/300\n",
            "15/15 [==============================] - 0s 28ms/step - loss: 4.1703e-04 - accuracy: 1.0000 - val_loss: 4.9340 - val_accuracy: 0.6667\n",
            "Epoch 269/300\n",
            "15/15 [==============================] - 0s 28ms/step - loss: 4.4815e-04 - accuracy: 1.0000 - val_loss: 4.8911 - val_accuracy: 0.6667\n",
            "Epoch 270/300\n",
            "15/15 [==============================] - 0s 29ms/step - loss: 1.1109e-04 - accuracy: 1.0000 - val_loss: 4.7964 - val_accuracy: 0.7333\n",
            "Epoch 271/300\n",
            "15/15 [==============================] - 0s 29ms/step - loss: 1.2514e-04 - accuracy: 1.0000 - val_loss: 4.7936 - val_accuracy: 0.7333\n",
            "Epoch 272/300\n",
            "15/15 [==============================] - 0s 26ms/step - loss: 0.0015 - accuracy: 1.0000 - val_loss: 4.9074 - val_accuracy: 0.6667\n",
            "Epoch 273/300\n",
            "15/15 [==============================] - 0s 30ms/step - loss: 6.8263e-04 - accuracy: 1.0000 - val_loss: 4.9861 - val_accuracy: 0.6667\n",
            "Epoch 274/300\n",
            "15/15 [==============================] - 0s 31ms/step - loss: 6.1199e-04 - accuracy: 1.0000 - val_loss: 4.7933 - val_accuracy: 0.7333\n",
            "Epoch 275/300\n",
            "15/15 [==============================] - 0s 28ms/step - loss: 7.7129e-06 - accuracy: 1.0000 - val_loss: 4.7823 - val_accuracy: 0.7333\n",
            "Epoch 276/300\n",
            "15/15 [==============================] - 0s 31ms/step - loss: 1.3907e-06 - accuracy: 1.0000 - val_loss: 4.7853 - val_accuracy: 0.7333\n",
            "Epoch 277/300\n",
            "15/15 [==============================] - 0s 27ms/step - loss: 5.5896e-07 - accuracy: 1.0000 - val_loss: 4.7862 - val_accuracy: 0.7333\n",
            "Epoch 278/300\n",
            "15/15 [==============================] - 0s 28ms/step - loss: 6.9978e-06 - accuracy: 1.0000 - val_loss: 4.7850 - val_accuracy: 0.7333\n",
            "Epoch 279/300\n",
            "15/15 [==============================] - 0s 30ms/step - loss: 8.5879e-04 - accuracy: 1.0000 - val_loss: 5.0701 - val_accuracy: 0.6667\n",
            "Epoch 280/300\n",
            "15/15 [==============================] - 0s 27ms/step - loss: 1.9073e-07 - accuracy: 1.0000 - val_loss: 5.1769 - val_accuracy: 0.6667\n",
            "Epoch 281/300\n",
            "15/15 [==============================] - 0s 27ms/step - loss: 7.9473e-09 - accuracy: 1.0000 - val_loss: 5.2022 - val_accuracy: 0.6667\n",
            "Epoch 282/300\n",
            "15/15 [==============================] - 0s 28ms/step - loss: 2.2252e-07 - accuracy: 1.0000 - val_loss: 5.2076 - val_accuracy: 0.6667\n",
            "Epoch 283/300\n",
            "15/15 [==============================] - 0s 28ms/step - loss: 2.6781e-06 - accuracy: 1.0000 - val_loss: 5.2080 - val_accuracy: 0.6667\n",
            "Epoch 284/300\n",
            "15/15 [==============================] - 0s 27ms/step - loss: 7.3379e-07 - accuracy: 1.0000 - val_loss: 5.2078 - val_accuracy: 0.6667\n",
            "Epoch 285/300\n",
            "15/15 [==============================] - 0s 29ms/step - loss: 3.7669e-06 - accuracy: 1.0000 - val_loss: 5.2053 - val_accuracy: 0.6667\n",
            "Epoch 286/300\n",
            "15/15 [==============================] - 0s 27ms/step - loss: 7.4175e-08 - accuracy: 1.0000 - val_loss: 5.2042 - val_accuracy: 0.6667\n",
            "Epoch 287/300\n",
            "15/15 [==============================] - 0s 28ms/step - loss: 6.6491e-07 - accuracy: 1.0000 - val_loss: 5.2037 - val_accuracy: 0.6667\n",
            "Epoch 288/300\n",
            "15/15 [==============================] - 0s 27ms/step - loss: 2.3842e-08 - accuracy: 1.0000 - val_loss: 5.2036 - val_accuracy: 0.6667\n",
            "Epoch 289/300\n",
            "15/15 [==============================] - 0s 25ms/step - loss: 3.4438e-08 - accuracy: 1.0000 - val_loss: 5.2036 - val_accuracy: 0.6667\n",
            "Epoch 290/300\n",
            "15/15 [==============================] - 0s 27ms/step - loss: 3.9736e-08 - accuracy: 1.0000 - val_loss: 5.2036 - val_accuracy: 0.6667\n",
            "Epoch 291/300\n",
            "15/15 [==============================] - 0s 26ms/step - loss: 3.7536e-05 - accuracy: 1.0000 - val_loss: 5.1882 - val_accuracy: 0.6667\n",
            "Epoch 292/300\n",
            "15/15 [==============================] - 0s 27ms/step - loss: 6.0929e-08 - accuracy: 1.0000 - val_loss: 5.1872 - val_accuracy: 0.6667\n",
            "Epoch 293/300\n",
            "15/15 [==============================] - 0s 27ms/step - loss: 1.5895e-08 - accuracy: 1.0000 - val_loss: 5.1870 - val_accuracy: 0.6667\n",
            "Epoch 294/300\n",
            "15/15 [==============================] - 0s 26ms/step - loss: 0.0143 - accuracy: 1.0000 - val_loss: 4.5792 - val_accuracy: 0.6667\n",
            "Epoch 295/300\n",
            "15/15 [==============================] - 0s 28ms/step - loss: 0.2008 - accuracy: 0.9556 - val_loss: 3.4601 - val_accuracy: 0.7333\n",
            "Epoch 296/300\n",
            "15/15 [==============================] - 0s 26ms/step - loss: 0.0034 - accuracy: 1.0000 - val_loss: 4.0705 - val_accuracy: 0.7333\n",
            "Epoch 297/300\n",
            "15/15 [==============================] - 0s 29ms/step - loss: 2.6387e-05 - accuracy: 1.0000 - val_loss: 4.5031 - val_accuracy: 0.6667\n",
            "Epoch 298/300\n",
            "15/15 [==============================] - 0s 26ms/step - loss: 0.0012 - accuracy: 1.0000 - val_loss: 4.3913 - val_accuracy: 0.6667\n",
            "Epoch 299/300\n",
            "15/15 [==============================] - 0s 27ms/step - loss: 3.5498e-07 - accuracy: 1.0000 - val_loss: 4.3632 - val_accuracy: 0.6667\n",
            "Epoch 300/300\n",
            "15/15 [==============================] - 0s 25ms/step - loss: 0.0406 - accuracy: 0.9778 - val_loss: 3.7097 - val_accuracy: 0.6667\n"
          ]
        },
        {
          "output_type": "execute_result",
          "data": {
            "text/plain": [
              "<keras.callbacks.History at 0x7f16136defd0>"
            ]
          },
          "metadata": {},
          "execution_count": 28
        }
      ]
    },
    {
      "cell_type": "code",
      "source": [
        "model.evaluate(test_data_generator)"
      ],
      "metadata": {
        "colab": {
          "base_uri": "https://localhost:8080/"
        },
        "id": "JOIgo1rDr4_Z",
        "outputId": "3d550a33-9af4-45e0-d53b-59148528d82f"
      },
      "execution_count": null,
      "outputs": [
        {
          "output_type": "stream",
          "name": "stdout",
          "text": [
            "5/5 [==============================] - 0s 7ms/step - loss: 3.7097 - accuracy: 0.6667\n"
          ]
        },
        {
          "output_type": "execute_result",
          "data": {
            "text/plain": [
              "[3.709679126739502, 0.6666666865348816]"
            ]
          },
          "metadata": {},
          "execution_count": 29
        }
      ]
    }
  ]
}