{
  "nbformat": 4,
  "nbformat_minor": 0,
  "metadata": {
    "colab": {
      "name": "01_MNIST_v1.ipynb",
      "provenance": [],
      "collapsed_sections": []
    },
    "kernelspec": {
      "name": "python3",
      "display_name": "Python 3"
    },
    "language_info": {
      "name": "python"
    }
  },
  "cells": [
    {
      "cell_type": "markdown",
      "source": [
        "# MNIST 손글씨 - CNN v1\n",
        "- 2 x Conv2D layers\n",
        "- 1 FCN layer\n",
        "- 1 Output layer"
      ],
      "metadata": {
        "id": "jhbOhueudziL"
      }
    },
    {
      "cell_type": "code",
      "execution_count": 1,
      "metadata": {
        "id": "RRueGaCYdwR7"
      },
      "outputs": [],
      "source": [
        "import numpy as np\n",
        "import pandas as pd\n",
        "import matplotlib.pyplot as plt\n",
        "import tensorflow as tf\n",
        "seed = 2022\n",
        "np.random.seed(seed)\n",
        "tf.random.set_seed(seed)"
      ]
    },
    {
      "cell_type": "markdown",
      "source": [
        "- 데이터 전처리"
      ],
      "metadata": {
        "id": "CU8T4LO1fLSs"
      }
    },
    {
      "cell_type": "code",
      "source": [
        "from tensorflow.keras.datasets import mnist\n",
        "(X_train, y_train), (X_test, y_test) = mnist.load_data()\n",
        "X_train.shape, y_train.shape, X_test.shape, y_test.shape"
      ],
      "metadata": {
        "colab": {
          "base_uri": "https://localhost:8080/"
        },
        "id": "ElZxxiUYeFXQ",
        "outputId": "086efd92-b61b-46a4-d46a-1a0e3c064e1f"
      },
      "execution_count": 7,
      "outputs": [
        {
          "output_type": "execute_result",
          "data": {
            "text/plain": [
              "((60000, 28, 28), (60000,), (10000, 28, 28), (10000,))"
            ]
          },
          "metadata": {},
          "execution_count": 7
        }
      ]
    },
    {
      "cell_type": "code",
      "source": [
        "# X_train, X_test 정규화(0~1), 이미지 차원 변경: 2차원 --> 3차원\n",
        "X_train = X_train.reshape(-1, 28, 28, 1) / 255.\n",
        "X_test = X_test.reshape(-1, 28, 28, 1) / 255.\n",
        "X_train.shape, X_test.shape"
      ],
      "metadata": {
        "colab": {
          "base_uri": "https://localhost:8080/"
        },
        "id": "1lWIcKayeNti",
        "outputId": "467d18c6-3bd8-46c0-8e98-ffb4a71006a9"
      },
      "execution_count": 5,
      "outputs": [
        {
          "output_type": "execute_result",
          "data": {
            "text/plain": [
              "((60000, 28, 28, 1), (10000, 28, 28, 1))"
            ]
          },
          "metadata": {},
          "execution_count": 5
        }
      ]
    },
    {
      "cell_type": "code",
      "source": [
        "# One hot encoding\n",
        "from tensorflow.keras.utils import to_categorical\n",
        "Y_train = to_categorical(y_train)\n",
        "Y_test = to_categorical(y_test)\n",
        "Y_train.shape, Y_test.shape"
      ],
      "metadata": {
        "colab": {
          "base_uri": "https://localhost:8080/"
        },
        "id": "6V3ig-AJeY1i",
        "outputId": "e963ed74-41e4-44bb-9138-15937691390b"
      },
      "execution_count": 11,
      "outputs": [
        {
          "output_type": "execute_result",
          "data": {
            "text/plain": [
              "((60000, 10), (10000, 10))"
            ]
          },
          "metadata": {},
          "execution_count": 11
        }
      ]
    },
    {
      "cell_type": "markdown",
      "source": [
        "- 모델 정의/설정/학습/평가"
      ],
      "metadata": {
        "id": "_X961xIWfGDE"
      }
    },
    {
      "cell_type": "code",
      "source": [
        "from tensorflow.keras.models import Sequential, load_model\n",
        "from tensorflow.keras.layers import Dense, Conv2D, Flatten\n",
        "from tensorflow.keras.callbacks import ModelCheckpoint, EarlyStopping"
      ],
      "metadata": {
        "id": "1W2yN0KAe_8O"
      },
      "execution_count": null,
      "outputs": []
    },
    {
      "cell_type": "code",
      "source": [
        "model = Sequential([Conv2D(32, kernel_size=(3, 3), input_shape=(28, 28, 1), activation='relu'),\n",
        "                    Conv2D(64, (3, 3), activation='relu'),\n",
        "                    Flatten(),    # FCN 적용을 위해 1차원으로 변환\n",
        "                    Dense(512, activation='relu'),\n",
        "                    Dense(10, activation='softmax')\n",
        "                    ])\n",
        "model.summary()"
      ],
      "metadata": {
        "colab": {
          "base_uri": "https://localhost:8080/"
        },
        "id": "SeBRFbrZfsmx",
        "outputId": "e845145c-2c6c-4b9f-e7c4-39fc49439516"
      },
      "execution_count": null,
      "outputs": [
        {
          "output_type": "stream",
          "name": "stdout",
          "text": [
            "Model: \"sequential\"\n",
            "_________________________________________________________________\n",
            " Layer (type)                Output Shape              Param #   \n",
            "=================================================================\n",
            " conv2d (Conv2D)             (None, 26, 26, 32)        320       \n",
            "                                                                 \n",
            " conv2d_1 (Conv2D)           (None, 24, 24, 64)        18496     \n",
            "                                                                 \n",
            " flatten (Flatten)           (None, 36864)             0         \n",
            "                                                                 \n",
            " dense (Dense)               (None, 512)               18874880  \n",
            "                                                                 \n",
            " dense_1 (Dense)             (None, 10)                5130      \n",
            "                                                                 \n",
            "=================================================================\n",
            "Total params: 18,898,826\n",
            "Trainable params: 18,898,826\n",
            "Non-trainable params: 0\n",
            "_________________________________________________________________\n"
          ]
        }
      ]
    },
    {
      "cell_type": "code",
      "source": [
        "model.compile('adam', 'categorical_crossentropy', ['accuracy'])"
      ],
      "metadata": {
        "id": "brAy0MrOhnGA"
      },
      "execution_count": null,
      "outputs": []
    },
    {
      "cell_type": "code",
      "source": [
        "model_path = 'best_mnist_cnn_v1.h5'\n",
        "mc = ModelCheckpoint(model_path, save_best_only=True, verbose=1)\n",
        "es = EarlyStopping(patience=10)"
      ],
      "metadata": {
        "id": "NfeSDWiai6HZ"
      },
      "execution_count": null,
      "outputs": []
    },
    {
      "cell_type": "code",
      "source": [
        "hist = model.fit(X_train, Y_train, validation_split=0.2, epochs=100, batch_size=200, callbacks=[mc, es])"
      ],
      "metadata": {
        "colab": {
          "base_uri": "https://localhost:8080/"
        },
        "id": "dlPzLMjllh8R",
        "outputId": "0c69bcc0-0cd3-42e6-cfb9-f06fec2bfa76"
      },
      "execution_count": null,
      "outputs": [
        {
          "output_type": "stream",
          "name": "stdout",
          "text": [
            "Epoch 1/100\n",
            "239/240 [============================>.] - ETA: 0s - loss: 0.1523 - accuracy: 0.9532\n",
            "Epoch 1: val_loss improved from inf to 0.05629, saving model to best_mnist_cnn_v1.h5\n",
            "240/240 [==============================] - 17s 23ms/step - loss: 0.1520 - accuracy: 0.9532 - val_loss: 0.0563 - val_accuracy: 0.9837\n",
            "Epoch 2/100\n",
            "238/240 [============================>.] - ETA: 0s - loss: 0.0356 - accuracy: 0.9890\n",
            "Epoch 2: val_loss improved from 0.05629 to 0.05414, saving model to best_mnist_cnn_v1.h5\n",
            "240/240 [==============================] - 5s 23ms/step - loss: 0.0355 - accuracy: 0.9890 - val_loss: 0.0541 - val_accuracy: 0.9854\n",
            "Epoch 3/100\n",
            "238/240 [============================>.] - ETA: 0s - loss: 0.0174 - accuracy: 0.9944\n",
            "Epoch 3: val_loss improved from 0.05414 to 0.04554, saving model to best_mnist_cnn_v1.h5\n",
            "240/240 [==============================] - 6s 23ms/step - loss: 0.0173 - accuracy: 0.9944 - val_loss: 0.0455 - val_accuracy: 0.9879\n",
            "Epoch 4/100\n",
            "238/240 [============================>.] - ETA: 0s - loss: 0.0100 - accuracy: 0.9968\n",
            "Epoch 4: val_loss did not improve from 0.04554\n",
            "240/240 [==============================] - 5s 20ms/step - loss: 0.0101 - accuracy: 0.9968 - val_loss: 0.0506 - val_accuracy: 0.9868\n",
            "Epoch 5/100\n",
            "238/240 [============================>.] - ETA: 0s - loss: 0.0077 - accuracy: 0.9974\n",
            "Epoch 5: val_loss did not improve from 0.04554\n",
            "240/240 [==============================] - 5s 20ms/step - loss: 0.0077 - accuracy: 0.9974 - val_loss: 0.0617 - val_accuracy: 0.9864\n",
            "Epoch 6/100\n",
            "238/240 [============================>.] - ETA: 0s - loss: 0.0054 - accuracy: 0.9984\n",
            "Epoch 6: val_loss did not improve from 0.04554\n",
            "240/240 [==============================] - 5s 21ms/step - loss: 0.0054 - accuracy: 0.9985 - val_loss: 0.0500 - val_accuracy: 0.9893\n",
            "Epoch 7/100\n",
            "238/240 [============================>.] - ETA: 0s - loss: 0.0040 - accuracy: 0.9986\n",
            "Epoch 7: val_loss did not improve from 0.04554\n",
            "240/240 [==============================] - 5s 20ms/step - loss: 0.0040 - accuracy: 0.9986 - val_loss: 0.0645 - val_accuracy: 0.9860\n",
            "Epoch 8/100\n",
            "238/240 [============================>.] - ETA: 0s - loss: 0.0055 - accuracy: 0.9981\n",
            "Epoch 8: val_loss did not improve from 0.04554\n",
            "240/240 [==============================] - 5s 21ms/step - loss: 0.0055 - accuracy: 0.9981 - val_loss: 0.0629 - val_accuracy: 0.9867\n",
            "Epoch 9/100\n",
            "238/240 [============================>.] - ETA: 0s - loss: 0.0038 - accuracy: 0.9988\n",
            "Epoch 9: val_loss did not improve from 0.04554\n",
            "240/240 [==============================] - 5s 20ms/step - loss: 0.0038 - accuracy: 0.9989 - val_loss: 0.0478 - val_accuracy: 0.9898\n",
            "Epoch 10/100\n",
            "238/240 [============================>.] - ETA: 0s - loss: 0.0045 - accuracy: 0.9986\n",
            "Epoch 10: val_loss did not improve from 0.04554\n",
            "240/240 [==============================] - 5s 21ms/step - loss: 0.0046 - accuracy: 0.9986 - val_loss: 0.0615 - val_accuracy: 0.9874\n",
            "Epoch 11/100\n",
            "238/240 [============================>.] - ETA: 0s - loss: 0.0040 - accuracy: 0.9986\n",
            "Epoch 11: val_loss did not improve from 0.04554\n",
            "240/240 [==============================] - 5s 20ms/step - loss: 0.0040 - accuracy: 0.9986 - val_loss: 0.0550 - val_accuracy: 0.9889\n",
            "Epoch 12/100\n",
            "238/240 [============================>.] - ETA: 0s - loss: 0.0018 - accuracy: 0.9995\n",
            "Epoch 12: val_loss did not improve from 0.04554\n",
            "240/240 [==============================] - 5s 20ms/step - loss: 0.0018 - accuracy: 0.9995 - val_loss: 0.0651 - val_accuracy: 0.9897\n",
            "Epoch 13/100\n",
            "238/240 [============================>.] - ETA: 0s - loss: 0.0052 - accuracy: 0.9986\n",
            "Epoch 13: val_loss did not improve from 0.04554\n",
            "240/240 [==============================] - 5s 22ms/step - loss: 0.0052 - accuracy: 0.9986 - val_loss: 0.0574 - val_accuracy: 0.9885\n"
          ]
        }
      ]
    },
    {
      "cell_type": "code",
      "source": [
        "best_model = load_model(model_path)\n",
        "best_model.evaluate(X_test, Y_test)"
      ],
      "metadata": {
        "colab": {
          "base_uri": "https://localhost:8080/"
        },
        "id": "0AUbUYckl7-E",
        "outputId": "ad739dfa-8290-4a4a-859a-4ed46eef03bf"
      },
      "execution_count": null,
      "outputs": [
        {
          "output_type": "stream",
          "name": "stdout",
          "text": [
            "313/313 [==============================] - 1s 4ms/step - loss: 0.0407 - accuracy: 0.9872\n"
          ]
        },
        {
          "output_type": "execute_result",
          "data": {
            "text/plain": [
              "[0.04070865362882614, 0.9872000217437744]"
            ]
          },
          "metadata": {},
          "execution_count": 10
        }
      ]
    },
    {
      "cell_type": "markdown",
      "source": [
        "- 학습과정 시각화"
      ],
      "metadata": {
        "id": "tmIKBeRUnPk6"
      }
    },
    {
      "cell_type": "code",
      "source": [
        "y_acc = hist.history['accuracy']\n",
        "y_vloss = hist.history['val_loss']\n",
        "xs = np.arange(1, len(y_acc)+1)"
      ],
      "metadata": {
        "id": "QdFeummPnQ5C"
      },
      "execution_count": null,
      "outputs": []
    },
    {
      "cell_type": "code",
      "source": [
        "plt.figure(figsize=(12, 8))\n",
        "plt.plot(xs, y_acc, label='train accuracy')\n",
        "plt.plot(xs, y_vloss, label='validation loss')\n",
        "plt.legend(), plt.grid()\n",
        "plt.xlabel('Epoch')\n",
        "plt.title('MNIST CNN model v1')\n",
        "plt.show()"
      ],
      "metadata": {
        "colab": {
          "base_uri": "https://localhost:8080/",
          "height": 513
        },
        "id": "-uQvoRXfnZ_U",
        "outputId": "adff1f8c-5742-4464-92a5-d7a8a1d04e5e"
      },
      "execution_count": null,
      "outputs": [
        {
          "output_type": "display_data",
          "data": {
            "text/plain": [
              "<Figure size 864x576 with 1 Axes>"
            ],
            "image/png": "[encoded data removed]"
          },
          "metadata": {
            "needs_background": "light"
          }
        }
      ]
    }
  ]
}