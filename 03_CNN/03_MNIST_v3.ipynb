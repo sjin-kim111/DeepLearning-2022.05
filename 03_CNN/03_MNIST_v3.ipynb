{
  "nbformat": 4,
  "nbformat_minor": 0,
  "metadata": {
    "colab": {
      "name": "03_MNIST_v3.ipynb",
      "provenance": [],
      "collapsed_sections": []
    },
    "kernelspec": {
      "name": "python3",
      "display_name": "Python 3"
    },
    "language_info": {
      "name": "python"
    },
    "accelerator": "GPU"
  },
  "cells": [
    {
      "cell_type": "markdown",
      "source": [
        "# MNIST 손글씨 - CNN v3\n",
        "- 2 x Conv2D layers\n",
        "- 1 MaxPooling2D layer\n",
        "- 1 Dropout(0.25) layer\n",
        "- 1 FCN layer\n",
        "- 1 Dropout(0.5) layer\n",
        "- 1 Output layer"
      ],
      "metadata": {
        "id": "jhbOhueudziL"
      }
    },
    {
      "cell_type": "code",
      "execution_count": null,
      "metadata": {
        "id": "RRueGaCYdwR7"
      },
      "outputs": [],
      "source": [
        "import numpy as np\n",
        "import pandas as pd\n",
        "import matplotlib.pyplot as plt\n",
        "import tensorflow as tf\n",
        "seed = 2022\n",
        "np.random.seed(seed)\n",
        "tf.random.set_seed(seed)"
      ]
    },
    {
      "cell_type": "markdown",
      "source": [
        "- 데이터 전처리"
      ],
      "metadata": {
        "id": "CU8T4LO1fLSs"
      }
    },
    {
      "cell_type": "code",
      "source": [
        "from tensorflow.keras.datasets import mnist\n",
        "(X_train, y_train), (X_test, y_test) = mnist.load_data()\n",
        "X_train.shape, y_train.shape, X_test.shape, y_test.shape"
      ],
      "metadata": {
        "colab": {
          "base_uri": "https://localhost:8080/"
        },
        "id": "ElZxxiUYeFXQ",
        "outputId": "575f93d7-71f5-4d1c-a415-b3f10c03c10a"
      },
      "execution_count": null,
      "outputs": [
        {
          "output_type": "stream",
          "name": "stdout",
          "text": [
            "Downloading data from https://storage.googleapis.com/tensorflow/tf-keras-datasets/mnist.npz\n",
            "11493376/11490434 [==============================] - 0s 0us/step\n",
            "11501568/11490434 [==============================] - 0s 0us/step\n"
          ]
        },
        {
          "output_type": "execute_result",
          "data": {
            "text/plain": [
              "((60000, 28, 28), (60000,), (10000, 28, 28), (10000,))"
            ]
          },
          "metadata": {},
          "execution_count": 2
        }
      ]
    },
    {
      "cell_type": "code",
      "source": [
        "# X_train, X_test 정규화(0~1), 이미지 차원 변경: 2차원 --> 3차원\n",
        "X_train = X_train.reshape(-1, 28, 28, 1) / 255.\n",
        "X_test = X_test.reshape(-1, 28, 28, 1) / 255.\n",
        "X_train.shape, X_test.shape"
      ],
      "metadata": {
        "colab": {
          "base_uri": "https://localhost:8080/"
        },
        "id": "1lWIcKayeNti",
        "outputId": "f0c75e3d-01b2-4077-baef-61194e6b23f2"
      },
      "execution_count": null,
      "outputs": [
        {
          "output_type": "execute_result",
          "data": {
            "text/plain": [
              "((60000, 28, 28, 1), (10000, 28, 28, 1))"
            ]
          },
          "metadata": {},
          "execution_count": 3
        }
      ]
    },
    {
      "cell_type": "code",
      "source": [
        "# One hot encoding\n",
        "from tensorflow.keras.utils import to_categorical\n",
        "Y_train = to_categorical(y_train)\n",
        "Y_test = to_categorical(y_test)\n",
        "Y_train.shape, Y_test.shape"
      ],
      "metadata": {
        "colab": {
          "base_uri": "https://localhost:8080/"
        },
        "id": "6V3ig-AJeY1i",
        "outputId": "cc6c1a70-bc23-4d29-b228-940f2b56dd94"
      },
      "execution_count": null,
      "outputs": [
        {
          "output_type": "execute_result",
          "data": {
            "text/plain": [
              "((60000, 10), (10000, 10))"
            ]
          },
          "metadata": {},
          "execution_count": 4
        }
      ]
    },
    {
      "cell_type": "markdown",
      "source": [
        "- 모델 정의/설정/학습/평가"
      ],
      "metadata": {
        "id": "_X961xIWfGDE"
      }
    },
    {
      "cell_type": "code",
      "source": [
        "from tensorflow.keras.models import Sequential, load_model\n",
        "from tensorflow.keras.layers import Dense, Conv2D, Flatten, MaxPooling2D, Dropout\n",
        "from tensorflow.keras.callbacks import ModelCheckpoint, EarlyStopping"
      ],
      "metadata": {
        "id": "1W2yN0KAe_8O"
      },
      "execution_count": null,
      "outputs": []
    },
    {
      "cell_type": "code",
      "source": [
        "model = Sequential([Conv2D(32, kernel_size=(3, 3), input_shape=(28, 28, 1), activation='relu'),\n",
        "                    Conv2D(64, (3, 3), activation='relu'),\n",
        "                    MaxPooling2D(),\n",
        "                    Dropout(0.25),\n",
        "                    Flatten(),\n",
        "                    Dense(512, activation='relu'),\n",
        "                    Dropout(0.5),\n",
        "                    Dense(10, activation='softmax')\n",
        "                    ])\n",
        "model.summary()"
      ],
      "metadata": {
        "colab": {
          "base_uri": "https://localhost:8080/"
        },
        "id": "SeBRFbrZfsmx",
        "outputId": "186225db-1ac9-48e3-c823-710420ae7c7a"
      },
      "execution_count": null,
      "outputs": [
        {
          "output_type": "stream",
          "name": "stdout",
          "text": [
            "Model: \"sequential\"\n",
            "_________________________________________________________________\n",
            " Layer (type)                Output Shape              Param #   \n",
            "=================================================================\n",
            " conv2d (Conv2D)             (None, 26, 26, 32)        320       \n",
            "                                                                 \n",
            " conv2d_1 (Conv2D)           (None, 24, 24, 64)        18496     \n",
            "                                                                 \n",
            " max_pooling2d (MaxPooling2D  (None, 12, 12, 64)       0         \n",
            " )                                                               \n",
            "                                                                 \n",
            " dropout (Dropout)           (None, 12, 12, 64)        0         \n",
            "                                                                 \n",
            " flatten (Flatten)           (None, 9216)              0         \n",
            "                                                                 \n",
            " dense (Dense)               (None, 512)               4719104   \n",
            "                                                                 \n",
            " dropout_1 (Dropout)         (None, 512)               0         \n",
            "                                                                 \n",
            " dense_1 (Dense)             (None, 10)                5130      \n",
            "                                                                 \n",
            "=================================================================\n",
            "Total params: 4,743,050\n",
            "Trainable params: 4,743,050\n",
            "Non-trainable params: 0\n",
            "_________________________________________________________________\n"
          ]
        }
      ]
    },
    {
      "cell_type": "code",
      "source": [
        "model.compile('adam', 'categorical_crossentropy', ['accuracy'])"
      ],
      "metadata": {
        "id": "brAy0MrOhnGA"
      },
      "execution_count": null,
      "outputs": []
    },
    {
      "cell_type": "code",
      "source": [
        "model_path = 'best_mnist_cnn_v3.h5'\n",
        "mc = ModelCheckpoint(model_path, save_best_only=True, verbose=1)\n",
        "es = EarlyStopping(patience=10)"
      ],
      "metadata": {
        "id": "NfeSDWiai6HZ"
      },
      "execution_count": null,
      "outputs": []
    },
    {
      "cell_type": "code",
      "source": [
        "hist = model.fit(X_train, Y_train, validation_split=0.2, epochs=100, batch_size=200, callbacks=[mc, es])"
      ],
      "metadata": {
        "colab": {
          "base_uri": "https://localhost:8080/"
        },
        "id": "dlPzLMjllh8R",
        "outputId": "e606e5d9-8b7e-4e06-8d93-ff820a787ac3"
      },
      "execution_count": null,
      "outputs": [
        {
          "output_type": "stream",
          "name": "stdout",
          "text": [
            "Epoch 1/100\n",
            "240/240 [==============================] - ETA: 0s - loss: 0.2202 - accuracy: 0.9319\n",
            "Epoch 1: val_loss improved from inf to 0.05605, saving model to best_mnist_cnn_v3.h5\n",
            "240/240 [==============================] - 14s 15ms/step - loss: 0.2202 - accuracy: 0.9319 - val_loss: 0.0560 - val_accuracy: 0.9838\n",
            "Epoch 2/100\n",
            "239/240 [============================>.] - ETA: 0s - loss: 0.0622 - accuracy: 0.9809\n",
            "Epoch 2: val_loss improved from 0.05605 to 0.04892, saving model to best_mnist_cnn_v3.h5\n",
            "240/240 [==============================] - 4s 16ms/step - loss: 0.0622 - accuracy: 0.9809 - val_loss: 0.0489 - val_accuracy: 0.9861\n",
            "Epoch 3/100\n",
            "239/240 [============================>.] - ETA: 0s - loss: 0.0440 - accuracy: 0.9864\n",
            "Epoch 3: val_loss improved from 0.04892 to 0.04042, saving model to best_mnist_cnn_v3.h5\n",
            "240/240 [==============================] - 3s 14ms/step - loss: 0.0439 - accuracy: 0.9865 - val_loss: 0.0404 - val_accuracy: 0.9881\n",
            "Epoch 4/100\n",
            "239/240 [============================>.] - ETA: 0s - loss: 0.0340 - accuracy: 0.9889\n",
            "Epoch 4: val_loss improved from 0.04042 to 0.03829, saving model to best_mnist_cnn_v3.h5\n",
            "240/240 [==============================] - 3s 14ms/step - loss: 0.0339 - accuracy: 0.9889 - val_loss: 0.0383 - val_accuracy: 0.9901\n",
            "Epoch 5/100\n",
            "236/240 [============================>.] - ETA: 0s - loss: 0.0277 - accuracy: 0.9908\n",
            "Epoch 5: val_loss did not improve from 0.03829\n",
            "240/240 [==============================] - 3s 14ms/step - loss: 0.0275 - accuracy: 0.9909 - val_loss: 0.0399 - val_accuracy: 0.9898\n",
            "Epoch 6/100\n",
            "239/240 [============================>.] - ETA: 0s - loss: 0.0229 - accuracy: 0.9923\n",
            "Epoch 6: val_loss improved from 0.03829 to 0.03653, saving model to best_mnist_cnn_v3.h5\n",
            "240/240 [==============================] - 3s 14ms/step - loss: 0.0229 - accuracy: 0.9923 - val_loss: 0.0365 - val_accuracy: 0.9894\n",
            "Epoch 7/100\n",
            "237/240 [============================>.] - ETA: 0s - loss: 0.0207 - accuracy: 0.9934\n",
            "Epoch 7: val_loss improved from 0.03653 to 0.03522, saving model to best_mnist_cnn_v3.h5\n",
            "240/240 [==============================] - 3s 14ms/step - loss: 0.0205 - accuracy: 0.9934 - val_loss: 0.0352 - val_accuracy: 0.9905\n",
            "Epoch 8/100\n",
            "240/240 [==============================] - ETA: 0s - loss: 0.0171 - accuracy: 0.9942\n",
            "Epoch 8: val_loss did not improve from 0.03522\n",
            "240/240 [==============================] - 3s 13ms/step - loss: 0.0171 - accuracy: 0.9942 - val_loss: 0.0392 - val_accuracy: 0.9906\n",
            "Epoch 9/100\n",
            "237/240 [============================>.] - ETA: 0s - loss: 0.0146 - accuracy: 0.9951\n",
            "Epoch 9: val_loss improved from 0.03522 to 0.03466, saving model to best_mnist_cnn_v3.h5\n",
            "240/240 [==============================] - 3s 14ms/step - loss: 0.0145 - accuracy: 0.9951 - val_loss: 0.0347 - val_accuracy: 0.9906\n",
            "Epoch 10/100\n",
            "240/240 [==============================] - ETA: 0s - loss: 0.0134 - accuracy: 0.9956\n",
            "Epoch 10: val_loss did not improve from 0.03466\n",
            "240/240 [==============================] - 3s 14ms/step - loss: 0.0134 - accuracy: 0.9956 - val_loss: 0.0364 - val_accuracy: 0.9908\n",
            "Epoch 11/100\n",
            "240/240 [==============================] - ETA: 0s - loss: 0.0125 - accuracy: 0.9956\n",
            "Epoch 11: val_loss did not improve from 0.03466\n",
            "240/240 [==============================] - 3s 14ms/step - loss: 0.0125 - accuracy: 0.9956 - val_loss: 0.0375 - val_accuracy: 0.9912\n",
            "Epoch 12/100\n",
            "239/240 [============================>.] - ETA: 0s - loss: 0.0108 - accuracy: 0.9964\n",
            "Epoch 12: val_loss did not improve from 0.03466\n",
            "240/240 [==============================] - 3s 14ms/step - loss: 0.0107 - accuracy: 0.9964 - val_loss: 0.0364 - val_accuracy: 0.9906\n",
            "Epoch 13/100\n",
            "238/240 [============================>.] - ETA: 0s - loss: 0.0112 - accuracy: 0.9960\n",
            "Epoch 13: val_loss did not improve from 0.03466\n",
            "240/240 [==============================] - 3s 13ms/step - loss: 0.0111 - accuracy: 0.9960 - val_loss: 0.0398 - val_accuracy: 0.9917\n",
            "Epoch 14/100\n",
            "238/240 [============================>.] - ETA: 0s - loss: 0.0107 - accuracy: 0.9963\n",
            "Epoch 14: val_loss did not improve from 0.03466\n",
            "240/240 [==============================] - 3s 14ms/step - loss: 0.0107 - accuracy: 0.9963 - val_loss: 0.0395 - val_accuracy: 0.9908\n",
            "Epoch 15/100\n",
            "236/240 [============================>.] - ETA: 0s - loss: 0.0097 - accuracy: 0.9965\n",
            "Epoch 15: val_loss did not improve from 0.03466\n",
            "240/240 [==============================] - 3s 14ms/step - loss: 0.0096 - accuracy: 0.9966 - val_loss: 0.0378 - val_accuracy: 0.9916\n",
            "Epoch 16/100\n",
            "239/240 [============================>.] - ETA: 0s - loss: 0.0063 - accuracy: 0.9978\n",
            "Epoch 16: val_loss did not improve from 0.03466\n",
            "240/240 [==============================] - 3s 14ms/step - loss: 0.0063 - accuracy: 0.9978 - val_loss: 0.0381 - val_accuracy: 0.9917\n",
            "Epoch 17/100\n",
            "239/240 [============================>.] - ETA: 0s - loss: 0.0075 - accuracy: 0.9977\n",
            "Epoch 17: val_loss did not improve from 0.03466\n",
            "240/240 [==============================] - 3s 14ms/step - loss: 0.0075 - accuracy: 0.9977 - val_loss: 0.0396 - val_accuracy: 0.9916\n",
            "Epoch 18/100\n",
            "238/240 [============================>.] - ETA: 0s - loss: 0.0085 - accuracy: 0.9970\n",
            "Epoch 18: val_loss did not improve from 0.03466\n",
            "240/240 [==============================] - 3s 14ms/step - loss: 0.0085 - accuracy: 0.9970 - val_loss: 0.0495 - val_accuracy: 0.9890\n",
            "Epoch 19/100\n",
            "239/240 [============================>.] - ETA: 0s - loss: 0.0074 - accuracy: 0.9977\n",
            "Epoch 19: val_loss did not improve from 0.03466\n",
            "240/240 [==============================] - 3s 14ms/step - loss: 0.0074 - accuracy: 0.9977 - val_loss: 0.0398 - val_accuracy: 0.9914\n"
          ]
        }
      ]
    },
    {
      "cell_type": "code",
      "source": [
        "best_model = load_model(model_path)\n",
        "best_model.evaluate(X_test, Y_test)"
      ],
      "metadata": {
        "colab": {
          "base_uri": "https://localhost:8080/"
        },
        "id": "0AUbUYckl7-E",
        "outputId": "f31dc031-d72e-4745-fd29-1afdd5c812f4"
      },
      "execution_count": null,
      "outputs": [
        {
          "output_type": "stream",
          "name": "stdout",
          "text": [
            "313/313 [==============================] - 1s 3ms/step - loss: 0.0274 - accuracy: 0.9914\n"
          ]
        },
        {
          "output_type": "execute_result",
          "data": {
            "text/plain": [
              "[0.027407122775912285, 0.9914000034332275]"
            ]
          },
          "metadata": {},
          "execution_count": 10
        }
      ]
    },
    {
      "cell_type": "markdown",
      "source": [
        "- 학습과정 시각화"
      ],
      "metadata": {
        "id": "tmIKBeRUnPk6"
      }
    },
    {
      "cell_type": "code",
      "source": [
        "y_acc = hist.history['accuracy']\n",
        "y_vloss = hist.history['val_loss']\n",
        "xs = np.arange(1, len(y_acc)+1)"
      ],
      "metadata": {
        "id": "QdFeummPnQ5C"
      },
      "execution_count": null,
      "outputs": []
    },
    {
      "cell_type": "code",
      "source": [
        "plt.figure(figsize=(12, 8))\n",
        "plt.plot(xs, y_acc, label='train accuracy')\n",
        "plt.plot(xs, y_vloss, label='validation loss')\n",
        "plt.legend(), plt.grid()\n",
        "plt.xlabel('Epoch')\n",
        "plt.title('MNIST CNN model v3')\n",
        "plt.show()"
      ],
      "metadata": {
        "colab": {
          "base_uri": "https://localhost:8080/",
          "height": 513
        },
        "id": "-uQvoRXfnZ_U",
        "outputId": "77e84c40-56b8-4806-d7ca-0f347a3446ca"
      },
      "execution_count": null,
      "outputs": [
        {
          "output_type": "display_data",
          "data": {
            "text/plain": [
              "<Figure size 864x576 with 1 Axes>"
            ],
            "image/png": "[encoded data removed]"
          },
          "metadata": {
            "needs_background": "light"
          }
        }
      ]
    }
  ]
}