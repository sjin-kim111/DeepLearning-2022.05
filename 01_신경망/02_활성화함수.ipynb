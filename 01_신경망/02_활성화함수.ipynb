{
  "nbformat": 4,
  "nbformat_minor": 0,
  "metadata": {
    "colab": {
      "name": "02_활성화함수.ipynb",
      "provenance": [],
      "collapsed_sections": []
    },
    "kernelspec": {
      "name": "python3",
      "display_name": "Python 3"
    },
    "language_info": {
      "name": "python"
    }
  },
  "cells": [
    {
      "cell_type": "markdown",
      "source": [
        "# 활성화함수"
      ],
      "metadata": {
        "id": "zZzuCNOQ-8Or"
      }
    },
    {
      "cell_type": "code",
      "execution_count": null,
      "metadata": {
        "id": "3_xCbWoA-5Ut"
      },
      "outputs": [],
      "source": [
        "import numpy as np\n",
        "import matplotlib.pyplot as plt"
      ]
    },
    {
      "cell_type": "code",
      "source": [
        "xs = np.linspace(-5, 5, 501)"
      ],
      "metadata": {
        "id": "bxcjhTtiAS_o"
      },
      "execution_count": null,
      "outputs": []
    },
    {
      "cell_type": "markdown",
      "source": [
        "- heaviside step function"
      ],
      "metadata": {
        "id": "tL3SalfQ_3NZ"
      }
    },
    {
      "cell_type": "code",
      "source": [
        "def heaviside(x):\n",
        "    y = np.zeros_like(x)\n",
        "    y[x > 0] = 1            # x <= 0이면 0, x > 1이면 1\n",
        "    return y"
      ],
      "metadata": {
        "id": "xfCARsMu_BNs"
      },
      "execution_count": null,
      "outputs": []
    },
    {
      "cell_type": "code",
      "source": [
        "plt.plot(xs, heaviside(xs))\n",
        "plt.grid()\n",
        "plt.title('heavieside')\n",
        "plt.show()"
      ],
      "metadata": {
        "colab": {
          "base_uri": "https://localhost:8080/",
          "height": 281
        },
        "id": "bBHvzJf1AQvF",
        "outputId": "90c255ab-6614-40df-ae42-0e90c660a89e"
      },
      "execution_count": null,
      "outputs": [
        {
          "output_type": "display_data",
          "data": {
            "text/plain": [
              "<Figure size 432x288 with 1 Axes>"
            ],
            "image/png": "[encoded data removed]"
          },
          "metadata": {
            "needs_background": "light"
          }
        }
      ]
    },
    {
      "cell_type": "markdown",
      "source": [
        "- sigmoid"
      ],
      "metadata": {
        "id": "r7a2K0IBAzGb"
      }
    },
    {
      "cell_type": "code",
      "source": [
        "def sigmoid(x):\n",
        "    return 1 / (1 + np.exp(-x))"
      ],
      "metadata": {
        "id": "c6UCr3unAjOs"
      },
      "execution_count": null,
      "outputs": []
    },
    {
      "cell_type": "code",
      "source": [
        "plt.plot(xs, sigmoid(xs))\n",
        "plt.grid()\n",
        "plt.title('sigmoid')\n",
        "plt.show()"
      ],
      "metadata": {
        "colab": {
          "base_uri": "https://localhost:8080/",
          "height": 281
        },
        "id": "UZpePvilA8to",
        "outputId": "0613a0f0-b426-49f2-b740-fdcc4542d1c4"
      },
      "execution_count": null,
      "outputs": [
        {
          "output_type": "display_data",
          "data": {
            "text/plain": [
              "<Figure size 432x288 with 1 Axes>"
            ],
            "image/png": "[encoded data removed]"
          },
          "metadata": {
            "needs_background": "light"
          }
        }
      ]
    },
    {
      "cell_type": "markdown",
      "source": [
        "- hyperbolic tangent"
      ],
      "metadata": {
        "id": "6YHmFub8BOdp"
      }
    },
    {
      "cell_type": "code",
      "source": [
        "plt.plot(xs, np.tanh(xs))\n",
        "plt.grid()\n",
        "plt.title('hyperbolic tangent')\n",
        "plt.show()"
      ],
      "metadata": {
        "colab": {
          "base_uri": "https://localhost:8080/",
          "height": 281
        },
        "id": "BDYPKil9BAro",
        "outputId": "e8ab147f-95cd-4504-8a2a-93dee5903d9e"
      },
      "execution_count": null,
      "outputs": [
        {
          "output_type": "display_data",
          "data": {
            "text/plain": [
              "<Figure size 432x288 with 1 Axes>"
            ],
            "image/png": "[encoded data removed]"
          },
          "metadata": {
            "needs_background": "light"
          }
        }
      ]
    },
    {
      "cell_type": "markdown",
      "source": [
        "- relu(rectified linear unit)"
      ],
      "metadata": {
        "id": "Jyn1jn-jBoyG"
      }
    },
    {
      "cell_type": "code",
      "source": [
        "def relu(x):\n",
        "    return np.maximum(0, x)"
      ],
      "metadata": {
        "id": "VOxKbSBeBZf2"
      },
      "execution_count": null,
      "outputs": []
    },
    {
      "cell_type": "code",
      "source": [
        "plt.plot(xs, relu(xs))\n",
        "plt.grid()\n",
        "plt.title('relu')\n",
        "plt.show()"
      ],
      "metadata": {
        "colab": {
          "base_uri": "https://localhost:8080/",
          "height": 281
        },
        "id": "0OJXQQ57B9Nq",
        "outputId": "6cacd268-01c7-4ba3-e2c9-e2e3010e6462"
      },
      "execution_count": null,
      "outputs": [
        {
          "output_type": "display_data",
          "data": {
            "text/plain": [
              "<Figure size 432x288 with 1 Axes>"
            ],
            "image/png": "[encoded data removed]"
          },
          "metadata": {
            "needs_background": "light"
          }
        }
      ]
    },
    {
      "cell_type": "markdown",
      "source": [
        "- leaky relu"
      ],
      "metadata": {
        "id": "XZGk7uwaCYwr"
      }
    },
    {
      "cell_type": "code",
      "source": [
        "def leaky_relu(x):\n",
        "    return np.maximum(0.01*x, x)"
      ],
      "metadata": {
        "id": "qydi36waCEfW"
      },
      "execution_count": null,
      "outputs": []
    },
    {
      "cell_type": "code",
      "source": [
        "plt.plot(xs, leaky_relu(xs))\n",
        "plt.grid()\n",
        "plt.title('leaky_relu')\n",
        "plt.show()"
      ],
      "metadata": {
        "colab": {
          "base_uri": "https://localhost:8080/",
          "height": 281
        },
        "id": "OBadvrGdCnPr",
        "outputId": "44c49b1c-3a90-47e5-ee5f-15339bccf0e0"
      },
      "execution_count": null,
      "outputs": [
        {
          "output_type": "display_data",
          "data": {
            "text/plain": [
              "<Figure size 432x288 with 1 Axes>"
            ],
            "image/png": "[encoded data removed]"
          },
          "metadata": {
            "needs_background": "light"
          }
        }
      ]
    },
    {
      "cell_type": "markdown",
      "source": [
        "- softplus"
      ],
      "metadata": {
        "id": "tUo1kxGXC7UN"
      }
    },
    {
      "cell_type": "code",
      "source": [
        "def softplus(x):\n",
        "    return np.log(1 + np.exp(x))"
      ],
      "metadata": {
        "id": "jWEmsWvVCtkO"
      },
      "execution_count": null,
      "outputs": []
    },
    {
      "cell_type": "code",
      "source": [
        "plt.plot(xs, softplus(xs))\n",
        "plt.grid()\n",
        "plt.title('softplus')\n",
        "plt.show()"
      ],
      "metadata": {
        "colab": {
          "base_uri": "https://localhost:8080/",
          "height": 281
        },
        "id": "0dTUFpshDH8M",
        "outputId": "8f17736b-466e-46b4-8601-ac41acd85b1f"
      },
      "execution_count": null,
      "outputs": [
        {
          "output_type": "display_data",
          "data": {
            "text/plain": [
              "<Figure size 432x288 with 1 Axes>"
            ],
            "image/png": "[encoded data removed]"
          },
          "metadata": {
            "needs_background": "light"
          }
        }
      ]
    },
    {
      "cell_type": "markdown",
      "source": [
        "- softmax"
      ],
      "metadata": {
        "id": "widLptCaETQs"
      }
    },
    {
      "cell_type": "code",
      "source": [
        "def softmax(x):\n",
        "    x = x - np.max(x)    # overflow 방지\n",
        "    return np.exp(x) / np.sum(np.exp(x))"
      ],
      "metadata": {
        "id": "gFlvfPDyDQWO"
      },
      "execution_count": null,
      "outputs": []
    },
    {
      "cell_type": "code",
      "source": [
        "yhat = np.array([-1, 1, 3])\n",
        "softmax(yhat)"
      ],
      "metadata": {
        "colab": {
          "base_uri": "https://localhost:8080/"
        },
        "id": "zjNMaFMXFYXo",
        "outputId": "6d101dae-8dff-463e-dfdf-7944ae372063"
      },
      "execution_count": null,
      "outputs": [
        {
          "output_type": "execute_result",
          "data": {
            "text/plain": [
              "array([0.01587624, 0.11731043, 0.86681333])"
            ]
          },
          "metadata": {},
          "execution_count": 36
        }
      ]
    },
    {
      "cell_type": "code",
      "source": [
        "np.sum(softmax(yhat))"
      ],
      "metadata": {
        "colab": {
          "base_uri": "https://localhost:8080/"
        },
        "id": "dhKlS1ASFp06",
        "outputId": "92e1ba6c-e6da-4e85-b799-f7e814983545"
      },
      "execution_count": null,
      "outputs": [
        {
          "output_type": "execute_result",
          "data": {
            "text/plain": [
              "1.0"
            ]
          },
          "metadata": {},
          "execution_count": 37
        }
      ]
    }
  ]
}